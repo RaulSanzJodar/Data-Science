{
  "metadata": {
    "kernelspec": {
      "name": "python",
      "display_name": "Python (Pyodide)",
      "language": "python"
    },
    "language_info": {
      "codemirror_mode": {
        "name": "python",
        "version": 3
      },
      "file_extension": ".py",
      "mimetype": "text/x-python",
      "name": "python",
      "nbconvert_exporter": "python",
      "pygments_lexer": "ipython3",
      "version": "3.8"
    }
  },
  "nbformat_minor": 4,
  "nbformat": 4,
  "cells": [
    {
      "cell_type": "code",
      "source": "import numpy as np\nimport pandas as pd",
      "metadata": {
        "trusted": true
      },
      "outputs": [],
      "execution_count": 688
    },
    {
      "cell_type": "code",
      "source": "data = pd.read_csv(\"Uncleaned_DS_jobs.csv\")\ndata.head()",
      "metadata": {
        "trusted": true
      },
      "outputs": [
        {
          "execution_count": 689,
          "output_type": "execute_result",
          "data": {
            "text/plain": "   index          Job Title               Salary Estimate  \\\n0      0  Sr Data Scientist  $137K-$171K (Glassdoor est.)   \n1      1     Data Scientist  $137K-$171K (Glassdoor est.)   \n2      2     Data Scientist  $137K-$171K (Glassdoor est.)   \n3      3     Data Scientist  $137K-$171K (Glassdoor est.)   \n4      4     Data Scientist  $137K-$171K (Glassdoor est.)   \n\n                                     Job Description  Rating  \\\n0  Description\\n\\nThe Senior Data Scientist is re...     3.1   \n1  Secure our Nation, Ignite your Future\\n\\nJoin ...     4.2   \n2  Overview\\n\\n\\nAnalysis Group is one of the lar...     3.8   \n3  JOB DESCRIPTION:\\n\\nDo you have a passion for ...     3.5   \n4  Data Scientist\\nAffinity Solutions / Marketing...     2.9   \n\n              Company Name       Location            Headquarters  \\\n0         Healthfirst\\n3.1   New York, NY            New York, NY   \n1             ManTech\\n4.2  Chantilly, VA             Herndon, VA   \n2      Analysis Group\\n3.8     Boston, MA              Boston, MA   \n3             INFICON\\n3.5     Newton, MA  Bad Ragaz, Switzerland   \n4  Affinity Solutions\\n2.9   New York, NY            New York, NY   \n\n                      Size  Founded        Type of ownership  \\\n0   1001 to 5000 employees     1993   Nonprofit Organization   \n1  5001 to 10000 employees     1968         Company - Public   \n2   1001 to 5000 employees     1981  Private Practice / Firm   \n3    501 to 1000 employees     2000         Company - Public   \n4      51 to 200 employees     1998        Company - Private   \n\n                                Industry             Sector  \\\n0                     Insurance Carriers          Insurance   \n1                 Research & Development  Business Services   \n2                             Consulting  Business Services   \n3  Electrical & Electronic Manufacturing      Manufacturing   \n4                Advertising & Marketing  Business Services   \n\n                      Revenue  \\\n0    Unknown / Non-Applicable   \n1      $1 to $2 billion (USD)   \n2  $100 to $500 million (USD)   \n3  $100 to $500 million (USD)   \n4    Unknown / Non-Applicable   \n\n                                         Competitors  \n0            EmblemHealth, UnitedHealth Group, Aetna  \n1                                                 -1  \n2                                                 -1  \n3  MKS Instruments, Pfeiffer Vacuum, Agilent Tech...  \n4               Commerce Signals, Cardlytics, Yodlee  ",
            "text/html": "<div>\n<style scoped>\n    .dataframe tbody tr th:only-of-type {\n        vertical-align: middle;\n    }\n\n    .dataframe tbody tr th {\n        vertical-align: top;\n    }\n\n    .dataframe thead th {\n        text-align: right;\n    }\n</style>\n<table border=\"1\" class=\"dataframe\">\n  <thead>\n    <tr style=\"text-align: right;\">\n      <th></th>\n      <th>index</th>\n      <th>Job Title</th>\n      <th>Salary Estimate</th>\n      <th>Job Description</th>\n      <th>Rating</th>\n      <th>Company Name</th>\n      <th>Location</th>\n      <th>Headquarters</th>\n      <th>Size</th>\n      <th>Founded</th>\n      <th>Type of ownership</th>\n      <th>Industry</th>\n      <th>Sector</th>\n      <th>Revenue</th>\n      <th>Competitors</th>\n    </tr>\n  </thead>\n  <tbody>\n    <tr>\n      <th>0</th>\n      <td>0</td>\n      <td>Sr Data Scientist</td>\n      <td>$137K-$171K (Glassdoor est.)</td>\n      <td>Description\\n\\nThe Senior Data Scientist is re...</td>\n      <td>3.1</td>\n      <td>Healthfirst\\n3.1</td>\n      <td>New York, NY</td>\n      <td>New York, NY</td>\n      <td>1001 to 5000 employees</td>\n      <td>1993</td>\n      <td>Nonprofit Organization</td>\n      <td>Insurance Carriers</td>\n      <td>Insurance</td>\n      <td>Unknown / Non-Applicable</td>\n      <td>EmblemHealth, UnitedHealth Group, Aetna</td>\n    </tr>\n    <tr>\n      <th>1</th>\n      <td>1</td>\n      <td>Data Scientist</td>\n      <td>$137K-$171K (Glassdoor est.)</td>\n      <td>Secure our Nation, Ignite your Future\\n\\nJoin ...</td>\n      <td>4.2</td>\n      <td>ManTech\\n4.2</td>\n      <td>Chantilly, VA</td>\n      <td>Herndon, VA</td>\n      <td>5001 to 10000 employees</td>\n      <td>1968</td>\n      <td>Company - Public</td>\n      <td>Research &amp; Development</td>\n      <td>Business Services</td>\n      <td>$1 to $2 billion (USD)</td>\n      <td>-1</td>\n    </tr>\n    <tr>\n      <th>2</th>\n      <td>2</td>\n      <td>Data Scientist</td>\n      <td>$137K-$171K (Glassdoor est.)</td>\n      <td>Overview\\n\\n\\nAnalysis Group is one of the lar...</td>\n      <td>3.8</td>\n      <td>Analysis Group\\n3.8</td>\n      <td>Boston, MA</td>\n      <td>Boston, MA</td>\n      <td>1001 to 5000 employees</td>\n      <td>1981</td>\n      <td>Private Practice / Firm</td>\n      <td>Consulting</td>\n      <td>Business Services</td>\n      <td>$100 to $500 million (USD)</td>\n      <td>-1</td>\n    </tr>\n    <tr>\n      <th>3</th>\n      <td>3</td>\n      <td>Data Scientist</td>\n      <td>$137K-$171K (Glassdoor est.)</td>\n      <td>JOB DESCRIPTION:\\n\\nDo you have a passion for ...</td>\n      <td>3.5</td>\n      <td>INFICON\\n3.5</td>\n      <td>Newton, MA</td>\n      <td>Bad Ragaz, Switzerland</td>\n      <td>501 to 1000 employees</td>\n      <td>2000</td>\n      <td>Company - Public</td>\n      <td>Electrical &amp; Electronic Manufacturing</td>\n      <td>Manufacturing</td>\n      <td>$100 to $500 million (USD)</td>\n      <td>MKS Instruments, Pfeiffer Vacuum, Agilent Tech...</td>\n    </tr>\n    <tr>\n      <th>4</th>\n      <td>4</td>\n      <td>Data Scientist</td>\n      <td>$137K-$171K (Glassdoor est.)</td>\n      <td>Data Scientist\\nAffinity Solutions / Marketing...</td>\n      <td>2.9</td>\n      <td>Affinity Solutions\\n2.9</td>\n      <td>New York, NY</td>\n      <td>New York, NY</td>\n      <td>51 to 200 employees</td>\n      <td>1998</td>\n      <td>Company - Private</td>\n      <td>Advertising &amp; Marketing</td>\n      <td>Business Services</td>\n      <td>Unknown / Non-Applicable</td>\n      <td>Commerce Signals, Cardlytics, Yodlee</td>\n    </tr>\n  </tbody>\n</table>\n</div>"
          },
          "metadata": {}
        }
      ],
      "execution_count": 689
    },
    {
      "cell_type": "code",
      "source": "data.info()",
      "metadata": {
        "trusted": true
      },
      "outputs": [
        {
          "name": "stdout",
          "text": "<class 'pandas.core.frame.DataFrame'>\nRangeIndex: 672 entries, 0 to 671\nData columns (total 15 columns):\n #   Column             Non-Null Count  Dtype  \n---  ------             --------------  -----  \n 0   index              672 non-null    int64  \n 1   Job Title          672 non-null    object \n 2   Salary Estimate    672 non-null    object \n 3   Job Description    672 non-null    object \n 4   Rating             672 non-null    float64\n 5   Company Name       672 non-null    object \n 6   Location           672 non-null    object \n 7   Headquarters       672 non-null    object \n 8   Size               672 non-null    object \n 9   Founded            672 non-null    int64  \n 10  Type of ownership  672 non-null    object \n 11  Industry           672 non-null    object \n 12  Sector             672 non-null    object \n 13  Revenue            672 non-null    object \n 14  Competitors        672 non-null    object \ndtypes: float64(1), int64(2), object(12)\nmemory usage: 47.3+ KB\n",
          "output_type": "stream"
        }
      ],
      "execution_count": 690
    },
    {
      "cell_type": "code",
      "source": "data.describe()",
      "metadata": {
        "trusted": true
      },
      "outputs": [
        {
          "execution_count": 691,
          "output_type": "execute_result",
          "data": {
            "text/plain": "            index      Rating      Founded\ncount  672.000000  672.000000   672.000000\nmean   335.500000    3.518601  1635.529762\nstd    194.133974    1.410329   756.746640\nmin      0.000000   -1.000000    -1.000000\n25%    167.750000    3.300000  1917.750000\n50%    335.500000    3.800000  1995.000000\n75%    503.250000    4.300000  2009.000000\nmax    671.000000    5.000000  2019.000000",
            "text/html": "<div>\n<style scoped>\n    .dataframe tbody tr th:only-of-type {\n        vertical-align: middle;\n    }\n\n    .dataframe tbody tr th {\n        vertical-align: top;\n    }\n\n    .dataframe thead th {\n        text-align: right;\n    }\n</style>\n<table border=\"1\" class=\"dataframe\">\n  <thead>\n    <tr style=\"text-align: right;\">\n      <th></th>\n      <th>index</th>\n      <th>Rating</th>\n      <th>Founded</th>\n    </tr>\n  </thead>\n  <tbody>\n    <tr>\n      <th>count</th>\n      <td>672.000000</td>\n      <td>672.000000</td>\n      <td>672.000000</td>\n    </tr>\n    <tr>\n      <th>mean</th>\n      <td>335.500000</td>\n      <td>3.518601</td>\n      <td>1635.529762</td>\n    </tr>\n    <tr>\n      <th>std</th>\n      <td>194.133974</td>\n      <td>1.410329</td>\n      <td>756.746640</td>\n    </tr>\n    <tr>\n      <th>min</th>\n      <td>0.000000</td>\n      <td>-1.000000</td>\n      <td>-1.000000</td>\n    </tr>\n    <tr>\n      <th>25%</th>\n      <td>167.750000</td>\n      <td>3.300000</td>\n      <td>1917.750000</td>\n    </tr>\n    <tr>\n      <th>50%</th>\n      <td>335.500000</td>\n      <td>3.800000</td>\n      <td>1995.000000</td>\n    </tr>\n    <tr>\n      <th>75%</th>\n      <td>503.250000</td>\n      <td>4.300000</td>\n      <td>2009.000000</td>\n    </tr>\n    <tr>\n      <th>max</th>\n      <td>671.000000</td>\n      <td>5.000000</td>\n      <td>2019.000000</td>\n    </tr>\n  </tbody>\n</table>\n</div>"
          },
          "metadata": {}
        }
      ],
      "execution_count": 691
    },
    {
      "cell_type": "code",
      "source": "data.describe(include=['object'])",
      "metadata": {
        "trusted": true
      },
      "outputs": [
        {
          "execution_count": 692,
          "output_type": "execute_result",
          "data": {
            "text/plain": "             Job Title              Salary Estimate  \\\ncount              672                          672   \nunique             172                           30   \ntop     Data Scientist  $79K-$131K (Glassdoor est.)   \nfreq               337                           32   \n\n                                          Job Description    Company Name  \\\ncount                                                 672             672   \nunique                                                489             432   \ntop     Job Overview: The Data Scientist is a key memb...  Hatch Data Inc   \nfreq                                                   12              12   \n\n                 Location  Headquarters                 Size  \\\ncount                 672           672                  672   \nunique                207           229                    9   \ntop     San Francisco, CA  New York, NY  51 to 200 employees   \nfreq                   69            33                  135   \n\n        Type of ownership Industry                  Sector  \\\ncount                 672      672                     672   \nunique                 13       58                      23   \ntop     Company - Private       -1  Information Technology   \nfreq                  397       71                     188   \n\n                         Revenue Competitors  \ncount                        672         672  \nunique                        14         108  \ntop     Unknown / Non-Applicable          -1  \nfreq                         213         501  ",
            "text/html": "<div>\n<style scoped>\n    .dataframe tbody tr th:only-of-type {\n        vertical-align: middle;\n    }\n\n    .dataframe tbody tr th {\n        vertical-align: top;\n    }\n\n    .dataframe thead th {\n        text-align: right;\n    }\n</style>\n<table border=\"1\" class=\"dataframe\">\n  <thead>\n    <tr style=\"text-align: right;\">\n      <th></th>\n      <th>Job Title</th>\n      <th>Salary Estimate</th>\n      <th>Job Description</th>\n      <th>Company Name</th>\n      <th>Location</th>\n      <th>Headquarters</th>\n      <th>Size</th>\n      <th>Type of ownership</th>\n      <th>Industry</th>\n      <th>Sector</th>\n      <th>Revenue</th>\n      <th>Competitors</th>\n    </tr>\n  </thead>\n  <tbody>\n    <tr>\n      <th>count</th>\n      <td>672</td>\n      <td>672</td>\n      <td>672</td>\n      <td>672</td>\n      <td>672</td>\n      <td>672</td>\n      <td>672</td>\n      <td>672</td>\n      <td>672</td>\n      <td>672</td>\n      <td>672</td>\n      <td>672</td>\n    </tr>\n    <tr>\n      <th>unique</th>\n      <td>172</td>\n      <td>30</td>\n      <td>489</td>\n      <td>432</td>\n      <td>207</td>\n      <td>229</td>\n      <td>9</td>\n      <td>13</td>\n      <td>58</td>\n      <td>23</td>\n      <td>14</td>\n      <td>108</td>\n    </tr>\n    <tr>\n      <th>top</th>\n      <td>Data Scientist</td>\n      <td>$79K-$131K (Glassdoor est.)</td>\n      <td>Job Overview: The Data Scientist is a key memb...</td>\n      <td>Hatch Data Inc</td>\n      <td>San Francisco, CA</td>\n      <td>New York, NY</td>\n      <td>51 to 200 employees</td>\n      <td>Company - Private</td>\n      <td>-1</td>\n      <td>Information Technology</td>\n      <td>Unknown / Non-Applicable</td>\n      <td>-1</td>\n    </tr>\n    <tr>\n      <th>freq</th>\n      <td>337</td>\n      <td>32</td>\n      <td>12</td>\n      <td>12</td>\n      <td>69</td>\n      <td>33</td>\n      <td>135</td>\n      <td>397</td>\n      <td>71</td>\n      <td>188</td>\n      <td>213</td>\n      <td>501</td>\n    </tr>\n  </tbody>\n</table>\n</div>"
          },
          "metadata": {}
        }
      ],
      "execution_count": 692
    },
    {
      "cell_type": "markdown",
      "source": "### Eliminar columnas innecesarias",
      "metadata": {}
    },
    {
      "cell_type": "code",
      "source": "data.drop(['index', 'Competitors'], axis=1, inplace=True)\ndata.head()",
      "metadata": {
        "trusted": true
      },
      "outputs": [
        {
          "execution_count": 693,
          "output_type": "execute_result",
          "data": {
            "text/plain": "           Job Title               Salary Estimate  \\\n0  Sr Data Scientist  $137K-$171K (Glassdoor est.)   \n1     Data Scientist  $137K-$171K (Glassdoor est.)   \n2     Data Scientist  $137K-$171K (Glassdoor est.)   \n3     Data Scientist  $137K-$171K (Glassdoor est.)   \n4     Data Scientist  $137K-$171K (Glassdoor est.)   \n\n                                     Job Description  Rating  \\\n0  Description\\n\\nThe Senior Data Scientist is re...     3.1   \n1  Secure our Nation, Ignite your Future\\n\\nJoin ...     4.2   \n2  Overview\\n\\n\\nAnalysis Group is one of the lar...     3.8   \n3  JOB DESCRIPTION:\\n\\nDo you have a passion for ...     3.5   \n4  Data Scientist\\nAffinity Solutions / Marketing...     2.9   \n\n              Company Name       Location            Headquarters  \\\n0         Healthfirst\\n3.1   New York, NY            New York, NY   \n1             ManTech\\n4.2  Chantilly, VA             Herndon, VA   \n2      Analysis Group\\n3.8     Boston, MA              Boston, MA   \n3             INFICON\\n3.5     Newton, MA  Bad Ragaz, Switzerland   \n4  Affinity Solutions\\n2.9   New York, NY            New York, NY   \n\n                      Size  Founded        Type of ownership  \\\n0   1001 to 5000 employees     1993   Nonprofit Organization   \n1  5001 to 10000 employees     1968         Company - Public   \n2   1001 to 5000 employees     1981  Private Practice / Firm   \n3    501 to 1000 employees     2000         Company - Public   \n4      51 to 200 employees     1998        Company - Private   \n\n                                Industry             Sector  \\\n0                     Insurance Carriers          Insurance   \n1                 Research & Development  Business Services   \n2                             Consulting  Business Services   \n3  Electrical & Electronic Manufacturing      Manufacturing   \n4                Advertising & Marketing  Business Services   \n\n                      Revenue  \n0    Unknown / Non-Applicable  \n1      $1 to $2 billion (USD)  \n2  $100 to $500 million (USD)  \n3  $100 to $500 million (USD)  \n4    Unknown / Non-Applicable  ",
            "text/html": "<div>\n<style scoped>\n    .dataframe tbody tr th:only-of-type {\n        vertical-align: middle;\n    }\n\n    .dataframe tbody tr th {\n        vertical-align: top;\n    }\n\n    .dataframe thead th {\n        text-align: right;\n    }\n</style>\n<table border=\"1\" class=\"dataframe\">\n  <thead>\n    <tr style=\"text-align: right;\">\n      <th></th>\n      <th>Job Title</th>\n      <th>Salary Estimate</th>\n      <th>Job Description</th>\n      <th>Rating</th>\n      <th>Company Name</th>\n      <th>Location</th>\n      <th>Headquarters</th>\n      <th>Size</th>\n      <th>Founded</th>\n      <th>Type of ownership</th>\n      <th>Industry</th>\n      <th>Sector</th>\n      <th>Revenue</th>\n    </tr>\n  </thead>\n  <tbody>\n    <tr>\n      <th>0</th>\n      <td>Sr Data Scientist</td>\n      <td>$137K-$171K (Glassdoor est.)</td>\n      <td>Description\\n\\nThe Senior Data Scientist is re...</td>\n      <td>3.1</td>\n      <td>Healthfirst\\n3.1</td>\n      <td>New York, NY</td>\n      <td>New York, NY</td>\n      <td>1001 to 5000 employees</td>\n      <td>1993</td>\n      <td>Nonprofit Organization</td>\n      <td>Insurance Carriers</td>\n      <td>Insurance</td>\n      <td>Unknown / Non-Applicable</td>\n    </tr>\n    <tr>\n      <th>1</th>\n      <td>Data Scientist</td>\n      <td>$137K-$171K (Glassdoor est.)</td>\n      <td>Secure our Nation, Ignite your Future\\n\\nJoin ...</td>\n      <td>4.2</td>\n      <td>ManTech\\n4.2</td>\n      <td>Chantilly, VA</td>\n      <td>Herndon, VA</td>\n      <td>5001 to 10000 employees</td>\n      <td>1968</td>\n      <td>Company - Public</td>\n      <td>Research &amp; Development</td>\n      <td>Business Services</td>\n      <td>$1 to $2 billion (USD)</td>\n    </tr>\n    <tr>\n      <th>2</th>\n      <td>Data Scientist</td>\n      <td>$137K-$171K (Glassdoor est.)</td>\n      <td>Overview\\n\\n\\nAnalysis Group is one of the lar...</td>\n      <td>3.8</td>\n      <td>Analysis Group\\n3.8</td>\n      <td>Boston, MA</td>\n      <td>Boston, MA</td>\n      <td>1001 to 5000 employees</td>\n      <td>1981</td>\n      <td>Private Practice / Firm</td>\n      <td>Consulting</td>\n      <td>Business Services</td>\n      <td>$100 to $500 million (USD)</td>\n    </tr>\n    <tr>\n      <th>3</th>\n      <td>Data Scientist</td>\n      <td>$137K-$171K (Glassdoor est.)</td>\n      <td>JOB DESCRIPTION:\\n\\nDo you have a passion for ...</td>\n      <td>3.5</td>\n      <td>INFICON\\n3.5</td>\n      <td>Newton, MA</td>\n      <td>Bad Ragaz, Switzerland</td>\n      <td>501 to 1000 employees</td>\n      <td>2000</td>\n      <td>Company - Public</td>\n      <td>Electrical &amp; Electronic Manufacturing</td>\n      <td>Manufacturing</td>\n      <td>$100 to $500 million (USD)</td>\n    </tr>\n    <tr>\n      <th>4</th>\n      <td>Data Scientist</td>\n      <td>$137K-$171K (Glassdoor est.)</td>\n      <td>Data Scientist\\nAffinity Solutions / Marketing...</td>\n      <td>2.9</td>\n      <td>Affinity Solutions\\n2.9</td>\n      <td>New York, NY</td>\n      <td>New York, NY</td>\n      <td>51 to 200 employees</td>\n      <td>1998</td>\n      <td>Company - Private</td>\n      <td>Advertising &amp; Marketing</td>\n      <td>Business Services</td>\n      <td>Unknown / Non-Applicable</td>\n    </tr>\n  </tbody>\n</table>\n</div>"
          },
          "metadata": {}
        }
      ],
      "execution_count": 693
    },
    {
      "cell_type": "markdown",
      "source": "### Limpiar la columna de Job Title",
      "metadata": {}
    },
    {
      "cell_type": "code",
      "source": "data['Job Title'].value_counts()",
      "metadata": {
        "trusted": true
      },
      "outputs": [
        {
          "execution_count": 694,
          "output_type": "execute_result",
          "data": {
            "text/plain": "Data Scientist                                            337\nData Engineer                                              26\nSenior Data Scientist                                      19\nMachine Learning Engineer                                  16\nData Analyst                                               12\n                                                         ... \nData Science Instructor                                     1\nBusiness Data Analyst                                       1\nPurification Scientist                                      1\nData Engineer, Enterprise Analytics                         1\nAI/ML - Machine Learning Scientist, Siri Understanding      1\nName: Job Title, Length: 172, dtype: int64"
          },
          "metadata": {}
        }
      ],
      "execution_count": 694
    },
    {
      "cell_type": "code",
      "source": "data['Job Title'].unique()",
      "metadata": {
        "trusted": true
      },
      "outputs": [
        {
          "execution_count": 695,
          "output_type": "execute_result",
          "data": {
            "text/plain": "array(['Sr Data Scientist', 'Data Scientist',\n       'Data Scientist / Machine Learning Expert',\n       'Staff Data Scientist - Analytics',\n       'Data Scientist - Statistics, Early Career', 'Data Modeler',\n       'Experienced Data Scientist', 'Data Scientist - Contract',\n       'Data Analyst II', 'Medical Lab Scientist',\n       'Data Scientist/Machine Learning', 'Human Factors Scientist',\n       'Business Intelligence Analyst I- Data Insights',\n       'Data Scientist - Risk', 'Data Scientist-Human Resources',\n       'Senior Research Statistician- Data Scientist', 'Data Engineer',\n       'Associate Data Scientist', 'Business Intelligence Analyst',\n       'Senior Analyst/Data Scientist', 'Data Analyst',\n       'Machine Learning Engineer', 'Data Analyst I',\n       'Scientist - Molecular Biology',\n       'Computational Scientist, Machine Learning',\n       'Senior Data Scientist', 'Jr. Data Engineer',\n       'E-Commerce Data Analyst', 'Data Analytics Engineer',\n       'Product Data Scientist - Ads Data Science',\n       'Data Scientist - Intermediate', 'Global Data Analyst',\n       'Data & Machine Learning Scientist',\n       'Data Scientist - Machine Learning', 'Data Engineer (Remote)',\n       'Data Scientist, Applied Machine Learning - Bay Area',\n       'Principal Data Scientist', 'Business Data Analyst',\n       'Purification Scientist', 'Data Engineer, Enterprise Analytics',\n       'Data Scientist 3 (718)', 'Real World Science, Data Scientist',\n       'Data Scientist - Image and Video Analytics',\n       'Data Science Manager, Payment Acceptance - USA',\n       'Data Scientist / Applied Mathematician',\n       'Patient Safety- Associate Data Scientist',\n       '(Sr.) Data Scientist -', 'Data Scientist, Kinship - NYC/Portland',\n       'Applied Technology Researcher / Data Scientist',\n       'Health Data Scientist - Biomedical/Biostats',\n       'Staff Data Scientist', 'Sr Data Engineer (Sr BI Developer)',\n       'Lead Data Scientist', 'RFP Data Analyst',\n       'Data Scientist (TS/SCI)', 'Software Engineer - Data Science',\n       'Data Analyst/Engineer', 'NGS Scientist', 'Senior Data Engineer',\n       'Sr. ML/Data Scientist - AI/NLP/Chatbot',\n       'Data Integration and Modeling Engineer',\n       'Tableau Data Engineer 20-0117', 'AI Data Scientist',\n       'Research Scientist Patient Preferences (Remote)',\n       'Scientist - Biomarker and Flow Cytometry', 'Analytics Manager',\n       'Staff Scientist- Upstream PD',\n       'Sr Scientist - Extractables & Leachables',\n       'ELISA RESEARCH SCIENTIST (CV-15)', 'Say Business Data Analyst',\n       'Geospatial Data Scientist', 'Computational Scientist',\n       'Senior Data Analyst', 'Sr Data Analyst',\n       'Machine Learning Scientist - Bay Area, CA',\n       'Senior Data Scientist - Algorithms',\n       'Senior Data & Machine Learning Scientist',\n       'Research Scientist - Patient-Centered Research (Remote)',\n       'Jr. Business Data Analyst (position added 6/12/2020)',\n       'Sr. Data Scientist II',\n       'Production Engineer - Statistics/Data Analysis',\n       'Statistical Scientist', 'Computational Behavioral Scientist',\n       'Principal Data Scientist - Machine Learning',\n       'Principal Machine Learning Scientist',\n       'Senior Data Scientist - R&D Oncology',\n       'Health Plan Data Analyst, Sr',\n       'Principal Scientist/Associate Director, Quality Control and Analytical Technologies',\n       'Analytics - Business Assurance Data Analyst',\n       'Senior Data Scientist – Image Analytics, Novartis AI Innovation Lab',\n       'Data Science Instructor', 'Senior Business Intelligence Analyst',\n       'In-Line Inspection Data Analyst',\n       'Data Scientist - TS/SCI FSP or CI Required',\n       'Data Scientist - TS/SCI Required',\n       'Data Science Software Engineer',\n       'ENGINEER - COMPUTER SCIENTIST - RESEARCH COMPUTER SCIENTIST - SIGNAL PROCESSING - SAN ANTONIO OR',\n       'AI Ops Data Scientist', 'Intelligence Data Analyst, Senior',\n       'Analytics Manager - Data Mart',\n       'Data Modeler (Analytical Systems)',\n       'Senior Machine Learning Scientist - Bay Area, CA',\n       'Report Writer-Data Analyst', 'Staff Data Scientist - Pricing',\n       'Equity Data Insights Analyst - Quantitative Analyst',\n       'Operations Data Analyst', 'Software Data Engineer',\n       'Real World Evidence (RWE) Scientist', 'Computer Scientist 1',\n       'Environmental Data Science', 'Staff BI and Data Engineer',\n       'Data Scientist - Statistics, Mid-Career',\n       'Director of Data Science',\n       'Data Engineer, Digital & Comp Pathology',\n       'Manager / Lead, Data Science & Analytics',\n       'Diversity and Inclusion Data Analyst',\n       'Data Scientist Machine Learning', 'Chief Scientist',\n       'Development Scientist, Voltaren',\n       'Principal Data & Analytics Platform Engineer',\n       'Machine Learning Engineer/Scientist',\n       'Data Analyst - Unilever Prestige', 'VP, Data Science',\n       'Data Engineer - Kafka', 'Decision Scientist',\n       'Data Science All Star Program - Data Engineer Track',\n       'Scientist - Machine Learning', 'Sr. Data Scientist',\n       'Applied AI Scientist / Engineer',\n       'Data Engineer (Analytics, SQL, Python, AWS)',\n       'Senior Data Analyst - Finance & Platform Analytics',\n       'Market Research Data Scientist',\n       'IT Partner Digital Health Technology and Data Science',\n       'Software Engineer (Data Scientist, C,C++,Linux,Unix) - SISW - MG',\n       'Senior Clinical Data Scientist Programmer',\n       'Computer Vision / Deep Learning Scientist',\n       'Data Solutions Engineer - Data Modeler',\n       'Data Scientist (TS/SCI w/ Poly)',\n       'Weapons and Sensors Engineer/Scientist',\n       'Applied Computer Scientist', 'Cloud Data Engineer (Azure)',\n       'Lead Certified Clinical Laboratory Scientist - Saturday - Tuesday, 8:00pm - 6:30am shift',\n       'Sr. Data Analyst',\n       'Senior Scientist - Toxicologist - Product Integrity (Stewardship)',\n       'Senior Machine Learning Engineer',\n       'Data Scientist- Industrial Discrete Sector Industry',\n       'Senior Principal Data Scientist (Python/R)',\n       'Data Scientist(s)/Machine Learning Engineer',\n       'Scientist / Group Lead, Cancer Biology',\n       'Manager, Field Application Scientist, Southeast',\n       'COMPUTER SCIENTIST - ENGINEER - RESEARCH COMPUTER SCIENTIST - SIGNAL PROCESSING',\n       'Machine Learning Scientist / Engineer', 'Data Science Analyst',\n       'COMPUTER SCIENTIST - ENGINEER - RESEARCH COMPUTER SCIENTIST - TRANSPORTATION TECHNOLOGY',\n       'Software Engineer - Machine Learning & Data Science (Applied Intelligence Services Team)',\n       'Clinical Data Analyst', 'Data Scientist Technical Specialist',\n       'Data Science Manager', 'Big Data Engineer', 'Data Architect',\n       'Aviation AI/ML Data Scientist', 'Machine Learning Engineer, Sr.',\n       'Information Systems Engineering Specialist (Engineering Scientist)',\n       'Scientist/Research Associate-Metabolic Engineering',\n       'Vice President, Biometrics and Clinical Data Management',\n       'Enterprise Data Analyst (Enterprise Portfolio Management Office)',\n       'Lead Data Scientist – Network Analysis and Control',\n       'Sr. Research Associate/ Scientist, NGS prep & Molecular Genomics',\n       'Developer III - Data Science',\n       'Hydrogen/Tritium Materials Scientist (Experienced)',\n       'Data Scientist/Data Analytics Practitioner',\n       'AI/ML - Machine Learning Scientist, Siri Understanding'],\n      dtype=object)"
          },
          "metadata": {}
        }
      ],
      "execution_count": 695
    },
    {
      "cell_type": "markdown",
      "source": "Como todos giran en torno a las mismas palabras clave, vamos a agruparlos",
      "metadata": {}
    },
    {
      "cell_type": "code",
      "source": "def group_job_title(title):\n    job_groups = {\n        'data scientist': 'Data scientist',\n        'data engineer': 'Data engineer',\n        'analyst': 'Analyst',\n        'machine learning': 'MLE',\n        'manager': 'Manager',\n        'director': 'Director'\n    }\n    title_lower = title.lower()\n    new_title = np.nan\n    for job, group in job_groups.items():\n        if job in title_lower:\n            new_title = group\n    return new_title",
      "metadata": {
        "trusted": true
      },
      "outputs": [],
      "execution_count": 696
    },
    {
      "cell_type": "code",
      "source": "data['Job Group'] = data['Job Title'].apply(group_job_title)\ndata['Job Group'].value_counts()",
      "metadata": {
        "trusted": true
      },
      "outputs": [
        {
          "execution_count": 697,
          "output_type": "execute_result",
          "data": {
            "text/plain": "Data scientist    440\nAnalyst            57\nMLE                49\nData engineer      47\nManager             7\nDirector            3\nName: Job Group, dtype: int64"
          },
          "metadata": {}
        }
      ],
      "execution_count": 697
    },
    {
      "cell_type": "code",
      "source": "data.head()",
      "metadata": {
        "trusted": true
      },
      "outputs": [
        {
          "execution_count": 698,
          "output_type": "execute_result",
          "data": {
            "text/plain": "           Job Title               Salary Estimate  \\\n0  Sr Data Scientist  $137K-$171K (Glassdoor est.)   \n1     Data Scientist  $137K-$171K (Glassdoor est.)   \n2     Data Scientist  $137K-$171K (Glassdoor est.)   \n3     Data Scientist  $137K-$171K (Glassdoor est.)   \n4     Data Scientist  $137K-$171K (Glassdoor est.)   \n\n                                     Job Description  Rating  \\\n0  Description\\n\\nThe Senior Data Scientist is re...     3.1   \n1  Secure our Nation, Ignite your Future\\n\\nJoin ...     4.2   \n2  Overview\\n\\n\\nAnalysis Group is one of the lar...     3.8   \n3  JOB DESCRIPTION:\\n\\nDo you have a passion for ...     3.5   \n4  Data Scientist\\nAffinity Solutions / Marketing...     2.9   \n\n              Company Name       Location            Headquarters  \\\n0         Healthfirst\\n3.1   New York, NY            New York, NY   \n1             ManTech\\n4.2  Chantilly, VA             Herndon, VA   \n2      Analysis Group\\n3.8     Boston, MA              Boston, MA   \n3             INFICON\\n3.5     Newton, MA  Bad Ragaz, Switzerland   \n4  Affinity Solutions\\n2.9   New York, NY            New York, NY   \n\n                      Size  Founded        Type of ownership  \\\n0   1001 to 5000 employees     1993   Nonprofit Organization   \n1  5001 to 10000 employees     1968         Company - Public   \n2   1001 to 5000 employees     1981  Private Practice / Firm   \n3    501 to 1000 employees     2000         Company - Public   \n4      51 to 200 employees     1998        Company - Private   \n\n                                Industry             Sector  \\\n0                     Insurance Carriers          Insurance   \n1                 Research & Development  Business Services   \n2                             Consulting  Business Services   \n3  Electrical & Electronic Manufacturing      Manufacturing   \n4                Advertising & Marketing  Business Services   \n\n                      Revenue       Job Group  \n0    Unknown / Non-Applicable  Data scientist  \n1      $1 to $2 billion (USD)  Data scientist  \n2  $100 to $500 million (USD)  Data scientist  \n3  $100 to $500 million (USD)  Data scientist  \n4    Unknown / Non-Applicable  Data scientist  ",
            "text/html": "<div>\n<style scoped>\n    .dataframe tbody tr th:only-of-type {\n        vertical-align: middle;\n    }\n\n    .dataframe tbody tr th {\n        vertical-align: top;\n    }\n\n    .dataframe thead th {\n        text-align: right;\n    }\n</style>\n<table border=\"1\" class=\"dataframe\">\n  <thead>\n    <tr style=\"text-align: right;\">\n      <th></th>\n      <th>Job Title</th>\n      <th>Salary Estimate</th>\n      <th>Job Description</th>\n      <th>Rating</th>\n      <th>Company Name</th>\n      <th>Location</th>\n      <th>Headquarters</th>\n      <th>Size</th>\n      <th>Founded</th>\n      <th>Type of ownership</th>\n      <th>Industry</th>\n      <th>Sector</th>\n      <th>Revenue</th>\n      <th>Job Group</th>\n    </tr>\n  </thead>\n  <tbody>\n    <tr>\n      <th>0</th>\n      <td>Sr Data Scientist</td>\n      <td>$137K-$171K (Glassdoor est.)</td>\n      <td>Description\\n\\nThe Senior Data Scientist is re...</td>\n      <td>3.1</td>\n      <td>Healthfirst\\n3.1</td>\n      <td>New York, NY</td>\n      <td>New York, NY</td>\n      <td>1001 to 5000 employees</td>\n      <td>1993</td>\n      <td>Nonprofit Organization</td>\n      <td>Insurance Carriers</td>\n      <td>Insurance</td>\n      <td>Unknown / Non-Applicable</td>\n      <td>Data scientist</td>\n    </tr>\n    <tr>\n      <th>1</th>\n      <td>Data Scientist</td>\n      <td>$137K-$171K (Glassdoor est.)</td>\n      <td>Secure our Nation, Ignite your Future\\n\\nJoin ...</td>\n      <td>4.2</td>\n      <td>ManTech\\n4.2</td>\n      <td>Chantilly, VA</td>\n      <td>Herndon, VA</td>\n      <td>5001 to 10000 employees</td>\n      <td>1968</td>\n      <td>Company - Public</td>\n      <td>Research &amp; Development</td>\n      <td>Business Services</td>\n      <td>$1 to $2 billion (USD)</td>\n      <td>Data scientist</td>\n    </tr>\n    <tr>\n      <th>2</th>\n      <td>Data Scientist</td>\n      <td>$137K-$171K (Glassdoor est.)</td>\n      <td>Overview\\n\\n\\nAnalysis Group is one of the lar...</td>\n      <td>3.8</td>\n      <td>Analysis Group\\n3.8</td>\n      <td>Boston, MA</td>\n      <td>Boston, MA</td>\n      <td>1001 to 5000 employees</td>\n      <td>1981</td>\n      <td>Private Practice / Firm</td>\n      <td>Consulting</td>\n      <td>Business Services</td>\n      <td>$100 to $500 million (USD)</td>\n      <td>Data scientist</td>\n    </tr>\n    <tr>\n      <th>3</th>\n      <td>Data Scientist</td>\n      <td>$137K-$171K (Glassdoor est.)</td>\n      <td>JOB DESCRIPTION:\\n\\nDo you have a passion for ...</td>\n      <td>3.5</td>\n      <td>INFICON\\n3.5</td>\n      <td>Newton, MA</td>\n      <td>Bad Ragaz, Switzerland</td>\n      <td>501 to 1000 employees</td>\n      <td>2000</td>\n      <td>Company - Public</td>\n      <td>Electrical &amp; Electronic Manufacturing</td>\n      <td>Manufacturing</td>\n      <td>$100 to $500 million (USD)</td>\n      <td>Data scientist</td>\n    </tr>\n    <tr>\n      <th>4</th>\n      <td>Data Scientist</td>\n      <td>$137K-$171K (Glassdoor est.)</td>\n      <td>Data Scientist\\nAffinity Solutions / Marketing...</td>\n      <td>2.9</td>\n      <td>Affinity Solutions\\n2.9</td>\n      <td>New York, NY</td>\n      <td>New York, NY</td>\n      <td>51 to 200 employees</td>\n      <td>1998</td>\n      <td>Company - Private</td>\n      <td>Advertising &amp; Marketing</td>\n      <td>Business Services</td>\n      <td>Unknown / Non-Applicable</td>\n      <td>Data scientist</td>\n    </tr>\n  </tbody>\n</table>\n</div>"
          },
          "metadata": {}
        }
      ],
      "execution_count": 698
    },
    {
      "cell_type": "markdown",
      "source": "El siguiente paso será extraer del título el nivel que se pide.",
      "metadata": {}
    },
    {
      "cell_type": "code",
      "source": "def job_level(title):\n    title_lower = title.lower()\n    senior_level = ['sr', 'senior', 'lead', 'principal', 'director']\n    junior_level = ['jr', 'junior']\n\n    level = np.nan\n    for keyword in senior_level:\n        if keyword in title_lower:\n            level = 'Senior'\n            break\n    else:\n        if any(junior_keyword in title_lower for junior_keyword in junior_level):\n            level = 'Junior'\n\n    return level",
      "metadata": {
        "trusted": true
      },
      "outputs": [],
      "execution_count": 699
    },
    {
      "cell_type": "code",
      "source": "data['Job Level'] = data['Job Title'].apply(job_level)\ndata['Job Level'].value_counts()",
      "metadata": {
        "trusted": true
      },
      "outputs": [
        {
          "execution_count": 700,
          "output_type": "execute_result",
          "data": {
            "text/plain": "Senior    95\nJunior     2\nName: Job Level, dtype: int64"
          },
          "metadata": {}
        }
      ],
      "execution_count": 700
    },
    {
      "cell_type": "markdown",
      "source": "Ya no necesitamos la columna de 'Job Title' así que la eliminamos.",
      "metadata": {}
    },
    {
      "cell_type": "code",
      "source": "data.drop(['Job Title'], axis=1, inplace=True)\ndata.head()",
      "metadata": {
        "trusted": true
      },
      "outputs": [
        {
          "execution_count": 701,
          "output_type": "execute_result",
          "data": {
            "text/plain": "                Salary Estimate  \\\n0  $137K-$171K (Glassdoor est.)   \n1  $137K-$171K (Glassdoor est.)   \n2  $137K-$171K (Glassdoor est.)   \n3  $137K-$171K (Glassdoor est.)   \n4  $137K-$171K (Glassdoor est.)   \n\n                                     Job Description  Rating  \\\n0  Description\\n\\nThe Senior Data Scientist is re...     3.1   \n1  Secure our Nation, Ignite your Future\\n\\nJoin ...     4.2   \n2  Overview\\n\\n\\nAnalysis Group is one of the lar...     3.8   \n3  JOB DESCRIPTION:\\n\\nDo you have a passion for ...     3.5   \n4  Data Scientist\\nAffinity Solutions / Marketing...     2.9   \n\n              Company Name       Location            Headquarters  \\\n0         Healthfirst\\n3.1   New York, NY            New York, NY   \n1             ManTech\\n4.2  Chantilly, VA             Herndon, VA   \n2      Analysis Group\\n3.8     Boston, MA              Boston, MA   \n3             INFICON\\n3.5     Newton, MA  Bad Ragaz, Switzerland   \n4  Affinity Solutions\\n2.9   New York, NY            New York, NY   \n\n                      Size  Founded        Type of ownership  \\\n0   1001 to 5000 employees     1993   Nonprofit Organization   \n1  5001 to 10000 employees     1968         Company - Public   \n2   1001 to 5000 employees     1981  Private Practice / Firm   \n3    501 to 1000 employees     2000         Company - Public   \n4      51 to 200 employees     1998        Company - Private   \n\n                                Industry             Sector  \\\n0                     Insurance Carriers          Insurance   \n1                 Research & Development  Business Services   \n2                             Consulting  Business Services   \n3  Electrical & Electronic Manufacturing      Manufacturing   \n4                Advertising & Marketing  Business Services   \n\n                      Revenue       Job Group Job Level  \n0    Unknown / Non-Applicable  Data scientist    Senior  \n1      $1 to $2 billion (USD)  Data scientist       NaN  \n2  $100 to $500 million (USD)  Data scientist       NaN  \n3  $100 to $500 million (USD)  Data scientist       NaN  \n4    Unknown / Non-Applicable  Data scientist       NaN  ",
            "text/html": "<div>\n<style scoped>\n    .dataframe tbody tr th:only-of-type {\n        vertical-align: middle;\n    }\n\n    .dataframe tbody tr th {\n        vertical-align: top;\n    }\n\n    .dataframe thead th {\n        text-align: right;\n    }\n</style>\n<table border=\"1\" class=\"dataframe\">\n  <thead>\n    <tr style=\"text-align: right;\">\n      <th></th>\n      <th>Salary Estimate</th>\n      <th>Job Description</th>\n      <th>Rating</th>\n      <th>Company Name</th>\n      <th>Location</th>\n      <th>Headquarters</th>\n      <th>Size</th>\n      <th>Founded</th>\n      <th>Type of ownership</th>\n      <th>Industry</th>\n      <th>Sector</th>\n      <th>Revenue</th>\n      <th>Job Group</th>\n      <th>Job Level</th>\n    </tr>\n  </thead>\n  <tbody>\n    <tr>\n      <th>0</th>\n      <td>$137K-$171K (Glassdoor est.)</td>\n      <td>Description\\n\\nThe Senior Data Scientist is re...</td>\n      <td>3.1</td>\n      <td>Healthfirst\\n3.1</td>\n      <td>New York, NY</td>\n      <td>New York, NY</td>\n      <td>1001 to 5000 employees</td>\n      <td>1993</td>\n      <td>Nonprofit Organization</td>\n      <td>Insurance Carriers</td>\n      <td>Insurance</td>\n      <td>Unknown / Non-Applicable</td>\n      <td>Data scientist</td>\n      <td>Senior</td>\n    </tr>\n    <tr>\n      <th>1</th>\n      <td>$137K-$171K (Glassdoor est.)</td>\n      <td>Secure our Nation, Ignite your Future\\n\\nJoin ...</td>\n      <td>4.2</td>\n      <td>ManTech\\n4.2</td>\n      <td>Chantilly, VA</td>\n      <td>Herndon, VA</td>\n      <td>5001 to 10000 employees</td>\n      <td>1968</td>\n      <td>Company - Public</td>\n      <td>Research &amp; Development</td>\n      <td>Business Services</td>\n      <td>$1 to $2 billion (USD)</td>\n      <td>Data scientist</td>\n      <td>NaN</td>\n    </tr>\n    <tr>\n      <th>2</th>\n      <td>$137K-$171K (Glassdoor est.)</td>\n      <td>Overview\\n\\n\\nAnalysis Group is one of the lar...</td>\n      <td>3.8</td>\n      <td>Analysis Group\\n3.8</td>\n      <td>Boston, MA</td>\n      <td>Boston, MA</td>\n      <td>1001 to 5000 employees</td>\n      <td>1981</td>\n      <td>Private Practice / Firm</td>\n      <td>Consulting</td>\n      <td>Business Services</td>\n      <td>$100 to $500 million (USD)</td>\n      <td>Data scientist</td>\n      <td>NaN</td>\n    </tr>\n    <tr>\n      <th>3</th>\n      <td>$137K-$171K (Glassdoor est.)</td>\n      <td>JOB DESCRIPTION:\\n\\nDo you have a passion for ...</td>\n      <td>3.5</td>\n      <td>INFICON\\n3.5</td>\n      <td>Newton, MA</td>\n      <td>Bad Ragaz, Switzerland</td>\n      <td>501 to 1000 employees</td>\n      <td>2000</td>\n      <td>Company - Public</td>\n      <td>Electrical &amp; Electronic Manufacturing</td>\n      <td>Manufacturing</td>\n      <td>$100 to $500 million (USD)</td>\n      <td>Data scientist</td>\n      <td>NaN</td>\n    </tr>\n    <tr>\n      <th>4</th>\n      <td>$137K-$171K (Glassdoor est.)</td>\n      <td>Data Scientist\\nAffinity Solutions / Marketing...</td>\n      <td>2.9</td>\n      <td>Affinity Solutions\\n2.9</td>\n      <td>New York, NY</td>\n      <td>New York, NY</td>\n      <td>51 to 200 employees</td>\n      <td>1998</td>\n      <td>Company - Private</td>\n      <td>Advertising &amp; Marketing</td>\n      <td>Business Services</td>\n      <td>Unknown / Non-Applicable</td>\n      <td>Data scientist</td>\n      <td>NaN</td>\n    </tr>\n  </tbody>\n</table>\n</div>"
          },
          "metadata": {}
        }
      ],
      "execution_count": 701
    },
    {
      "cell_type": "markdown",
      "source": "### Limpiar la columna del Salary Estimate",
      "metadata": {}
    },
    {
      "cell_type": "code",
      "source": "data['Salary Estimate'].value_counts()",
      "metadata": {
        "trusted": true
      },
      "outputs": [
        {
          "execution_count": 702,
          "output_type": "execute_result",
          "data": {
            "text/plain": "$79K-$131K (Glassdoor est.)     32\n$99K-$132K (Glassdoor est.)     32\n$75K-$131K (Glassdoor est.)     32\n$137K-$171K (Glassdoor est.)    30\n$90K-$109K (Glassdoor est.)     30\n$56K-$97K (Glassdoor est.)      22\n$79K-$106K (Glassdoor est.)     22\n$90K-$124K (Glassdoor est.)     22\n$110K-$163K (Glassdoor est.)    21\n$92K-$155K (Glassdoor est.)     21\n$138K-$158K (Glassdoor est.)    21\n$128K-$201K (Glassdoor est.)    21\n$212K-$331K (Glassdoor est.)    21\n$95K-$119K (Glassdoor est.)     21\n$69K-$116K (Glassdoor est.)     21\n$124K-$198K (Glassdoor est.)    21\n$112K-$116K (Glassdoor est.)    21\n$122K-$146K (Glassdoor est.)    21\n$91K-$150K (Glassdoor est.)     21\n$101K-$165K (Glassdoor est.)    21\n$79K-$147K (Glassdoor est.)     20\n$31K-$56K (Glassdoor est.)      20\n$145K-$225K(Employer est.)      20\n$141K-$225K (Glassdoor est.)    20\n$66K-$112K (Glassdoor est.)     20\n$80K-$132K (Glassdoor est.)     20\n$87K-$141K (Glassdoor est.)     20\n$105K-$167K (Glassdoor est.)    20\n$79K-$133K (Glassdoor est.)     19\n$71K-$123K (Glassdoor est.)     19\nName: Salary Estimate, dtype: int64"
          },
          "metadata": {}
        }
      ],
      "execution_count": 702
    },
    {
      "cell_type": "code",
      "source": "data['Salary Estimate'].unique()",
      "metadata": {
        "trusted": true
      },
      "outputs": [
        {
          "execution_count": 703,
          "output_type": "execute_result",
          "data": {
            "text/plain": "array(['$137K-$171K (Glassdoor est.)', '$75K-$131K (Glassdoor est.)',\n       '$79K-$131K (Glassdoor est.)', '$99K-$132K (Glassdoor est.)',\n       '$90K-$109K (Glassdoor est.)', '$101K-$165K (Glassdoor est.)',\n       '$56K-$97K (Glassdoor est.)', '$79K-$106K (Glassdoor est.)',\n       '$71K-$123K (Glassdoor est.)', '$90K-$124K (Glassdoor est.)',\n       '$91K-$150K (Glassdoor est.)', '$141K-$225K (Glassdoor est.)',\n       '$145K-$225K(Employer est.)', '$79K-$147K (Glassdoor est.)',\n       '$122K-$146K (Glassdoor est.)', '$112K-$116K (Glassdoor est.)',\n       '$110K-$163K (Glassdoor est.)', '$124K-$198K (Glassdoor est.)',\n       '$79K-$133K (Glassdoor est.)', '$69K-$116K (Glassdoor est.)',\n       '$31K-$56K (Glassdoor est.)', '$95K-$119K (Glassdoor est.)',\n       '$212K-$331K (Glassdoor est.)', '$66K-$112K (Glassdoor est.)',\n       '$128K-$201K (Glassdoor est.)', '$138K-$158K (Glassdoor est.)',\n       '$80K-$132K (Glassdoor est.)', '$87K-$141K (Glassdoor est.)',\n       '$92K-$155K (Glassdoor est.)', '$105K-$167K (Glassdoor est.)'],\n      dtype=object)"
          },
          "metadata": {}
        }
      ],
      "execution_count": 703
    },
    {
      "cell_type": "markdown",
      "source": "Primero vamos a eliminar el texto de los salarios.",
      "metadata": {}
    },
    {
      "cell_type": "code",
      "source": "data['Salary Estimate'] = data['Salary Estimate'].str.split('(').str[0]\ndata['Salary Estimate'].unique()",
      "metadata": {
        "trusted": true
      },
      "outputs": [
        {
          "execution_count": 704,
          "output_type": "execute_result",
          "data": {
            "text/plain": "array(['$137K-$171K ', '$75K-$131K ', '$79K-$131K ', '$99K-$132K ',\n       '$90K-$109K ', '$101K-$165K ', '$56K-$97K ', '$79K-$106K ',\n       '$71K-$123K ', '$90K-$124K ', '$91K-$150K ', '$141K-$225K ',\n       '$145K-$225K', '$79K-$147K ', '$122K-$146K ', '$112K-$116K ',\n       '$110K-$163K ', '$124K-$198K ', '$79K-$133K ', '$69K-$116K ',\n       '$31K-$56K ', '$95K-$119K ', '$212K-$331K ', '$66K-$112K ',\n       '$128K-$201K ', '$138K-$158K ', '$80K-$132K ', '$87K-$141K ',\n       '$92K-$155K ', '$105K-$167K '], dtype=object)"
          },
          "metadata": {}
        }
      ],
      "execution_count": 704
    },
    {
      "cell_type": "markdown",
      "source": "Ahora vamos a eliminar los símbolos y la unidad.",
      "metadata": {}
    },
    {
      "cell_type": "code",
      "source": "data['Salary Estimate'] = data['Salary Estimate'].str.replace('K', '', regex=False).str.replace('$', '', regex=False)\ndata['Salary Estimate'].unique()",
      "metadata": {
        "trusted": true
      },
      "outputs": [
        {
          "execution_count": 705,
          "output_type": "execute_result",
          "data": {
            "text/plain": "array(['137-171 ', '75-131 ', '79-131 ', '99-132 ', '90-109 ', '101-165 ',\n       '56-97 ', '79-106 ', '71-123 ', '90-124 ', '91-150 ', '141-225 ',\n       '145-225', '79-147 ', '122-146 ', '112-116 ', '110-163 ',\n       '124-198 ', '79-133 ', '69-116 ', '31-56 ', '95-119 ', '212-331 ',\n       '66-112 ', '128-201 ', '138-158 ', '80-132 ', '87-141 ', '92-155 ',\n       '105-167 '], dtype=object)"
          },
          "metadata": {}
        }
      ],
      "execution_count": 705
    },
    {
      "cell_type": "markdown",
      "source": "El último paso será dividirlos en dos nuevas columnas, para el mínimo y el máximo. Además, vamos a hacer una columna con el salario promedio.",
      "metadata": {}
    },
    {
      "cell_type": "code",
      "source": "data[['Min Salary', 'Max Salary']] = data['Salary Estimate'].str.split('-', expand=True).astype(int)*1000\ndata['Avg Salary'] = (data['Min Salary'] + data['Max Salary']) // 2",
      "metadata": {
        "trusted": true
      },
      "outputs": [],
      "execution_count": 706
    },
    {
      "cell_type": "markdown",
      "source": "Ya podemos eliminar la columna de Salary Estimate.",
      "metadata": {}
    },
    {
      "cell_type": "code",
      "source": "data.drop(['Salary Estimate'], axis=1, inplace=True)\ndata.head()",
      "metadata": {
        "trusted": true
      },
      "outputs": [
        {
          "execution_count": 707,
          "output_type": "execute_result",
          "data": {
            "text/plain": "                                     Job Description  Rating  \\\n0  Description\\n\\nThe Senior Data Scientist is re...     3.1   \n1  Secure our Nation, Ignite your Future\\n\\nJoin ...     4.2   \n2  Overview\\n\\n\\nAnalysis Group is one of the lar...     3.8   \n3  JOB DESCRIPTION:\\n\\nDo you have a passion for ...     3.5   \n4  Data Scientist\\nAffinity Solutions / Marketing...     2.9   \n\n              Company Name       Location            Headquarters  \\\n0         Healthfirst\\n3.1   New York, NY            New York, NY   \n1             ManTech\\n4.2  Chantilly, VA             Herndon, VA   \n2      Analysis Group\\n3.8     Boston, MA              Boston, MA   \n3             INFICON\\n3.5     Newton, MA  Bad Ragaz, Switzerland   \n4  Affinity Solutions\\n2.9   New York, NY            New York, NY   \n\n                      Size  Founded        Type of ownership  \\\n0   1001 to 5000 employees     1993   Nonprofit Organization   \n1  5001 to 10000 employees     1968         Company - Public   \n2   1001 to 5000 employees     1981  Private Practice / Firm   \n3    501 to 1000 employees     2000         Company - Public   \n4      51 to 200 employees     1998        Company - Private   \n\n                                Industry             Sector  \\\n0                     Insurance Carriers          Insurance   \n1                 Research & Development  Business Services   \n2                             Consulting  Business Services   \n3  Electrical & Electronic Manufacturing      Manufacturing   \n4                Advertising & Marketing  Business Services   \n\n                      Revenue       Job Group Job Level  Min Salary  \\\n0    Unknown / Non-Applicable  Data scientist    Senior      137000   \n1      $1 to $2 billion (USD)  Data scientist       NaN      137000   \n2  $100 to $500 million (USD)  Data scientist       NaN      137000   \n3  $100 to $500 million (USD)  Data scientist       NaN      137000   \n4    Unknown / Non-Applicable  Data scientist       NaN      137000   \n\n   Max Salary  Avg Salary  \n0      171000      154000  \n1      171000      154000  \n2      171000      154000  \n3      171000      154000  \n4      171000      154000  ",
            "text/html": "<div>\n<style scoped>\n    .dataframe tbody tr th:only-of-type {\n        vertical-align: middle;\n    }\n\n    .dataframe tbody tr th {\n        vertical-align: top;\n    }\n\n    .dataframe thead th {\n        text-align: right;\n    }\n</style>\n<table border=\"1\" class=\"dataframe\">\n  <thead>\n    <tr style=\"text-align: right;\">\n      <th></th>\n      <th>Job Description</th>\n      <th>Rating</th>\n      <th>Company Name</th>\n      <th>Location</th>\n      <th>Headquarters</th>\n      <th>Size</th>\n      <th>Founded</th>\n      <th>Type of ownership</th>\n      <th>Industry</th>\n      <th>Sector</th>\n      <th>Revenue</th>\n      <th>Job Group</th>\n      <th>Job Level</th>\n      <th>Min Salary</th>\n      <th>Max Salary</th>\n      <th>Avg Salary</th>\n    </tr>\n  </thead>\n  <tbody>\n    <tr>\n      <th>0</th>\n      <td>Description\\n\\nThe Senior Data Scientist is re...</td>\n      <td>3.1</td>\n      <td>Healthfirst\\n3.1</td>\n      <td>New York, NY</td>\n      <td>New York, NY</td>\n      <td>1001 to 5000 employees</td>\n      <td>1993</td>\n      <td>Nonprofit Organization</td>\n      <td>Insurance Carriers</td>\n      <td>Insurance</td>\n      <td>Unknown / Non-Applicable</td>\n      <td>Data scientist</td>\n      <td>Senior</td>\n      <td>137000</td>\n      <td>171000</td>\n      <td>154000</td>\n    </tr>\n    <tr>\n      <th>1</th>\n      <td>Secure our Nation, Ignite your Future\\n\\nJoin ...</td>\n      <td>4.2</td>\n      <td>ManTech\\n4.2</td>\n      <td>Chantilly, VA</td>\n      <td>Herndon, VA</td>\n      <td>5001 to 10000 employees</td>\n      <td>1968</td>\n      <td>Company - Public</td>\n      <td>Research &amp; Development</td>\n      <td>Business Services</td>\n      <td>$1 to $2 billion (USD)</td>\n      <td>Data scientist</td>\n      <td>NaN</td>\n      <td>137000</td>\n      <td>171000</td>\n      <td>154000</td>\n    </tr>\n    <tr>\n      <th>2</th>\n      <td>Overview\\n\\n\\nAnalysis Group is one of the lar...</td>\n      <td>3.8</td>\n      <td>Analysis Group\\n3.8</td>\n      <td>Boston, MA</td>\n      <td>Boston, MA</td>\n      <td>1001 to 5000 employees</td>\n      <td>1981</td>\n      <td>Private Practice / Firm</td>\n      <td>Consulting</td>\n      <td>Business Services</td>\n      <td>$100 to $500 million (USD)</td>\n      <td>Data scientist</td>\n      <td>NaN</td>\n      <td>137000</td>\n      <td>171000</td>\n      <td>154000</td>\n    </tr>\n    <tr>\n      <th>3</th>\n      <td>JOB DESCRIPTION:\\n\\nDo you have a passion for ...</td>\n      <td>3.5</td>\n      <td>INFICON\\n3.5</td>\n      <td>Newton, MA</td>\n      <td>Bad Ragaz, Switzerland</td>\n      <td>501 to 1000 employees</td>\n      <td>2000</td>\n      <td>Company - Public</td>\n      <td>Electrical &amp; Electronic Manufacturing</td>\n      <td>Manufacturing</td>\n      <td>$100 to $500 million (USD)</td>\n      <td>Data scientist</td>\n      <td>NaN</td>\n      <td>137000</td>\n      <td>171000</td>\n      <td>154000</td>\n    </tr>\n    <tr>\n      <th>4</th>\n      <td>Data Scientist\\nAffinity Solutions / Marketing...</td>\n      <td>2.9</td>\n      <td>Affinity Solutions\\n2.9</td>\n      <td>New York, NY</td>\n      <td>New York, NY</td>\n      <td>51 to 200 employees</td>\n      <td>1998</td>\n      <td>Company - Private</td>\n      <td>Advertising &amp; Marketing</td>\n      <td>Business Services</td>\n      <td>Unknown / Non-Applicable</td>\n      <td>Data scientist</td>\n      <td>NaN</td>\n      <td>137000</td>\n      <td>171000</td>\n      <td>154000</td>\n    </tr>\n  </tbody>\n</table>\n</div>"
          },
          "metadata": {}
        }
      ],
      "execution_count": 707
    },
    {
      "cell_type": "markdown",
      "source": "### Limpiar la columna de Company Name",
      "metadata": {}
    },
    {
      "cell_type": "code",
      "source": "data['Company Name'].unique()",
      "metadata": {
        "trusted": true
      },
      "outputs": [
        {
          "execution_count": 708,
          "output_type": "execute_result",
          "data": {
            "text/plain": "array(['Healthfirst\\n3.1', 'ManTech\\n4.2', 'Analysis Group\\n3.8',\n       'INFICON\\n3.5', 'Affinity Solutions\\n2.9', 'HG Insights\\n4.2',\n       'Novartis\\n3.9', 'iRobot\\n3.5', 'Intuit - Data\\n4.4',\n       'XSELL Technologies\\n3.6', 'Novetta\\n4.5', '1904labs\\n4.7',\n       'PNNL\\n3.7', 'Old World Industries\\n3.1',\n       'Mathematica Policy Research\\n3.4',\n       'Guzman & Griffin Technologies (GGTI)\\n4.4',\n       'Upside Business Travel\\n4.1', 'Buckman\\n3.5',\n       'Insight Enterprises, Inc.\\n4.2', 'Tower Health\\n3.5',\n       'Triplebyte\\n3.2', 'PulsePoint\\n4.3', 'Exponent\\n3.5',\n       'Guardian Life\\n3.5',\n       'Spectrum Communications and Consulting\\n3.4',\n       'Oversight Systems\\n4.7', 'LSQ\\n4.2',\n       'MIT Lincoln Laboratory\\n3.8', 'Kingfisher Systems\\n4.5',\n       'Formation\\n2.8', 'Cohere Health\\n5.0', 'Acuity Insurance\\n4.8',\n       'Chef\\n3.6', 'Puget Sound Energy\\n3.3', 'Sandhills Global\\n2.7',\n       'A Place for Mom\\n2.7', 'Great-Circle Technologies\\n2.2',\n       'Edmunds.com\\n3.4', 'Cambridge Associates, LLC\\n3.1',\n       'Liberty Mutual Insurance\\n3.4', 'Cenlar\\n2.6',\n       'Arsenal Biosciences\\n5.0', 'Eversight\\n4.2', 'Pfizer\\n4.1',\n       'Klaviyo\\n4.8', 'Intellectual Ventures\\n3.3', 'GovTech\\n3.7',\n       'Quick Base\\n4.3', 'Giving Assistant\\n4.8', 'Takeda\\n3.7',\n       'Netskope\\n4.0', 'IT Concepts\\n4.8', 'iSeatz\\n3.5',\n       'Summa Health System\\n3.7', 'Benson Hill\\n3.5', 'Twitter\\n4.1',\n       'Postmates - Corporate HQ\\n3.2', 'Envision LLC\\n4.5',\n       'Swiss Re\\n3.8', 'Systems & Technology Research\\n4.5',\n       'Dermalogica\\n3.8', 'Bayview Asset Management\\n3.7',\n       'Via Transportation\\n3.7', 'Grid Dynamics\\n4.0',\n       'Tempus Labs\\n3.3', 'CareDx\\n2.5', 'IZEA\\n4.2', 'Autodesk\\n4.0',\n       'Caterpillar\\n3.7', 'New England Biolabs\\n4.9',\n       'Allied Solutions\\n3.4', 'The Knot Worldwide\\n3.5',\n       'IFG Companies\\n2.9', 'Amyris\\n3.3', 'AstraZeneca\\n4.0',\n       'Powertek\\n3.6', 'Object Partners\\n4.7', 'The Mom Project\\n4.9',\n       'Lightspeed Systems\\n4.3', 'Stripe\\n4.0',\n       'Comprehensive Healthcare\\n2.6',\n       'Fullpower Technologies, Inc.\\n4.5', 'Mars\\n3.9',\n       'NuWave Solutions\\n4.4', 'Merrick Bank\\n3.6', 'QOMPLX\\n3.5',\n       'GutCheck\\n3.8', 'Inter-American Development Bank\\n3.5',\n       'Avlino\\n4.9', 'Stratagem Group\\n4.4', 'Evidation\\n4.1',\n       'Tecolote Research\\n3.8', 'Tivity Health\\n3.2', 'hc1\\n2.9',\n       'HP Inc.\\n4.1', 'SAIC\\n3.7', 'AllianceBernstein\\n3.2',\n       'Big Huge Games\\n4.9', 'Maxar Technologies\\n3.5',\n       'Phantom AI\\n5.0', 'Noblis\\n4.0', 'Spring Health\\n3.6',\n       'ClearEdge\\n4.0', 'GetWellNetwork\\n4.8', 'TACG Solutions\\n4.5',\n       'Scoop\\n4.7', 'Montway Inc\\n3.4', 'Juniper Networks\\n3.8',\n       'Notion Labs\\n5.0', 'Lendio\\n4.9', 'Direct Agents\\n4.4',\n       'NAVEX Global\\n3.3', 'Upstart\\n4.2', 'AppLovin\\n4.8',\n       'ISO New England\\n3.8', 'Relativity\\n3.7', 'Tempo Automation\\n3.3',\n       'MITRE\\n3.3', 'Expedition Technology, Inc.\\n5.0', 'Evidera\\n3.8',\n       'Plymouth Rock Assurance\\n3.4', 'Crown Bioscience\\n2.4',\n       'GNS Healthcare\\n2.9', 'OneMagnify\\n4.4', 'SPECTRUM\\n2.9',\n       'Advanced BioScience Laboratories\\n2.7',\n       'Procore Technologies\\n4.2', 'Ritedose\\n3.5',\n       'Covid-19 Search Partners', 'bioMérieux\\n4.2',\n       'Radical Convergence', 'Leidos\\n3.5', 'Demandbase\\n4.5',\n       'Shelter Insurance\\n4.1', 'USAC\\n2.7',\n       'General Dynamics Information Technology\\n3.4', 'Offerpad\\n4.4',\n       'Magna International Inc.\\n3.5', 'United BioSource\\n2.3',\n       'Kelly\\n3.4', 'C3.ai\\n4.7', 'Quartet Health\\n3.9',\n       'Midland Credit Management\\n3.3',\n       'Resurgent Capital Services\\n4.4', 'webfx.com\\n4.7',\n       'Argo Group US\\n3.5', 'BWX Technologies\\n3.3', 'Life360\\n3.9',\n       'MassMutual\\n3.7', 'Natera\\n3.9', 'Genentech\\n4.0', 'Ntrepid\\n4.2',\n       'Constant Contact\\n3.6', 'Sage Intacct\\n4.7',\n       'Shape Security\\n4.1', 'SkillSoniq\\n5.0', 'Joby Aviation\\n4.3',\n       \"Cook Children's Health Care System\\n3.8\",\n       'Rubius Therapeutics\\n3.8', 'GreatAmerica Financial Services\\n4.6',\n       'Coverent\\n4.1', 'Mteq\\n3.7', 'Rocket Lawyer\\n4.4',\n       'Alion Science & Technology\\n3.6', 'Protolabs\\n3.7',\n       'Quest Integrity\\n2.9', 'Phoenix Operations Group\\n5.0',\n       'Dice.com\\n3.4', 'Southwest Research Institute\\n3.9',\n       'The Buffalo Group\\n4.3',\n       'Central California Alliance for Health\\n3.5',\n       'Security Finance Corporation of Spartanburg\\n3.1',\n       'Opendoor\\n3.6', 'Global Data Management Inc\\n4.5',\n       'Photon Infotech\\n3.0', 'REE\\n5.0',\n       'Riverside Research Institute\\n3.6', 'T. Rowe Price\\n3.6',\n       'Encode, Inc.', 'Brighthouse Financial\\n3.8',\n       'II-VI Incorporated\\n3.3', 'Surya Systems\\n4.6', 'PayPal\\n3.8',\n       'Predictive Research Inc\\n3.9', '1010data\\n3.1', 'Gigya\\n3.6',\n       'Genesis Research\\n5.0', 'Sanofi\\n3.7', 'XPO Logistics\\n3.7',\n       'Trace Data\\n3.9', 'Descript\\n4.3',\n       'Rincon Research Corporation\\n4.2', 'Better Hire\\n4.0',\n       'Parker Hannifin\\n3.3', 'Gallup\\n4.1', 'Insider Inc\\n3.3',\n       'Rapid Value Solutions\\n3.9', 'Battelle\\n3.1',\n       'The Drive Media, Inc.\\n5.0',\n       'Pacific Northwest National Laboratory\\n3.7',\n       'US Pharmacopeia\\n3.2', 'Itlize Global\\n4.6', 'eBay\\n3.5',\n       'Paige\\n5.0', 'ABIOMED\\n4.1', 'Comcast\\n3.5',\n       'Metronome, LLC\\n3.2', 'Lawrence Livermore National Lab\\n4.7',\n       'FHLBank Pittsburgh\\n3.8', 'Jacobs\\n3.6',\n       'Underwriters Laboratories\\n3.3', 'Altus Group\\n3.7', 'Jobot\\n5.0',\n       'Trovetechs Inc', 'Oshkosh Corporation\\n4.2', 'Mackin\\n3.4',\n       'PETADATA', 'VBeyond Corporation\\n4.4', 'Take-Two\\n3.7',\n       'Colony Brands\\n3.7', 'Capio Group\\n4.1', 'SleePare\\n3.4',\n       'ShorePoint\\n4.5', 'Dolphin\\n3.5', 'TE Connectivity\\n3.6',\n       'State of Virginia\\n3.2', 'TA Digital\\n3.7',\n       'Market America Inc\\n4.0', 'TrueAccord\\n3.4',\n       'ALTA IT Services\\n3.9', 'Kollasoft Inc.\\n3.2',\n       'ASRC Federal Holding Company\\n3.4', 'Adwait Algorithm\\n4.4',\n       'Cambridge FX\\n3.5', 'Metromile\\n3.8', 'Criteo\\n3.9',\n       'Advance Sourcing Concepts\\n3.4', 'Enterprise Solutions Inc\\n3.8',\n       'Microagility', 'Conch Technologies, Inc\\n4.6', 'GSK\\n3.9',\n       'Rainmaker Resources, LLC', '22nd Century Technologies\\n3.7',\n       'Huxley\\n3.3', 'FM Systems\\n3.4', 'B4Corp',\n       'Blue Cross and Blue Shield of North Carolina\\n3.7',\n       'Jane Street\\n4.8', 'SSATI\\n5.0',\n       'Solving IT International Inc\\n3.4',\n       'The Davey Tree Expert Company\\n3.3', 'Centauri\\n4.6',\n       'Stride Search', 'Software Engineering Institute\\n2.6',\n       'TechProjects\\n4.8', '7Park Data\\n3.9',\n       'Ameritas Life Insurance Corp\\n3.0', 'Western Digital\\n3.5',\n       'Shimento, Inc.\\n2.9', 'Averity\\n5.0', 'Praxis Engineering\\n4.7',\n       'Point72 Ventures',\n       'Johns Hopkins University Applied Physics Laboratory\\n4.5',\n       'Cambridge Mobile Telematics\\n4.9', 'Blend360\\n4.6',\n       'Nolij Consulting\\n3.9', 'Hatch Data Inc',\n       'Compass Consulting Group\\n4.7', 'SolutionIT, Inc.\\n4.4',\n       'Perspecta\\n3.2', 'Smith Hanley Associates\\n4.5',\n       'Allen Institute\\n3.5', 'Eliassen Group\\n4.4',\n       'Bayside Solutions\\n3.1', 'Evolve Vacation Rental\\n3.5',\n       'AgreeYa Solutions\\n3.8', 'Carolina Power & Light Co\\n3.7',\n       'New Iron Group, Inc.\\n5.0', 'Travelers\\n4.0', 'Twitch\\n3.6',\n       'Biogen\\n3.6', 'HireAi', 'Mentor Graphics\\n4.1',\n       'WCG (WIRB-Copernicus Group)\\n3.6',\n       'Visionary Integration Professionals\\n4.3', 'Dynetics\\n4.0',\n       'Navy Federal Credit Union\\n3.9',\n       'Exact Sciences Corporation\\n4.0',\n       'Community Behavioral Health\\n3.6', 'Reynolds American\\n3.3',\n       'LifeOmic\\n5.0', 'Visionist, Inc.\\n4.9', 'Navio',\n       'Concerto HealthAI\\n3.3', 'Evolvinc', 'PROPRIUS\\n5.0',\n       'TECHNOCRAFT Solutions\\n3.4', 'Latitude, Inc.\\n4.1',\n       'Royce Geospatial\\n5.0', 'CyberCoders\\n4.2',\n       'Booz Allen Hamilton Inc.\\n3.7', 'Burns & McDonnell\\n3.8',\n       'InvenTech Info\\n4.8', 'Robert Half\\n3.5',\n       'Conflux Systems Inc.\\n4.5', 'Voice\\n3.4',\n       'Falcon IT & Staffing Solutions', 'DataLab USA\\n3.6',\n       'Werner Enterprises Inc\\n3.1', 'PeopleCom\\n5.0',\n       'VANTA Partners\\n5.0', 'Blue Icy Water, LLC',\n       \"Farmer's Business Network, Inc.\\n3.5\", 'Sonde Health',\n       'Maxiom\\n5.0', 'Change Healthcare\\n2.7', 'DCS Corp\\n4.1',\n       'Hive (CA)\\n2.1', 'Hackensack Meridian Health\\n3.3',\n       'Net2Source Inc.\\n3.2', 'The Trade Desk\\n3.2', 'IBM\\n3.7',\n       'Knowesis Inc.\\n4.4', 'MoTek Technologies\\n3.1', 'HPOne\\n3.5',\n       'Blue Cloak LLC', 'TBWA\\\\Chiat\\\\Day\\n2.7',\n       'ThreeBridge Solutions\\n3.5', 'Numeric, LLC\\n3.2',\n       'Centraprise\\n4.2', 'DW Simpson\\n4.2', 'LinQuest\\n3.9',\n       'Trexquant Investment\\n4.0', 'Fleetcor\\n3.7',\n       'Radiant Digital\\n4.5', 'Child Care Aware of America\\n2.8',\n       'IntelliPro Group Inc.\\n4.1', 'USI\\n3.4', 'Apex Systems\\n3.9',\n       'Pragmatics, Inc.\\n2.9', 'Crossover Health\\n3.5',\n       'Lorven Technologies Inc\\n4.0', 'Gap Inc.\\n3.5',\n       'Tygart Technology, Inc\\n4.7', 'Murray Resources\\n4.6',\n       'New York Technology Partners\\n4.0',\n       'Two95 International Inc.\\n4.0', 'Sophinea', 'CRS Group\\n4.7',\n       'Blackstone Talent Group\\n3.5', 'Roche\\n4.1',\n       'Creative Circle\\n3.6', 'Blue Horizon Tek Solutions\\n5.0',\n       'Sharpedge Solutions Inc\\n4.7',\n       'Alaka`ina Foundation Family of Companies\\n3.6',\n       'Hexagon US Federal\\n2.7', 'Monte Rosa Therapeutics',\n       'Comtech Global Inc\\n4.0', 'Aveshka, Inc.\\n3.8',\n       '10x Genomics\\n4.2', 'CompuForce', '1-800-Flowers\\n2.7',\n       'Aptive\\n3.5', 'JCD Staffing\\n5.0', 'Thumbtack\\n3.9',\n       'MILVETS Systems Technology, Inc.\\n3.4', 'Apple\\n4.1',\n       'Kforce\\n4.1', 'OppLoans\\n4.4', 'Brillient\\n3.9',\n       'Xator Corporation\\n2.9', 'HAN IT Staffing Inc.\\n4.6',\n       'Infinitive Inc\\n3.4', 'New Relic\\n4.7', 'ICW Group\\n3.3',\n       'NYSTEC\\n3.8', 'E3 Federal Solutions\\n4.5', 'Peraton\\n3.4',\n       'Group O\\n3.1', 'CaptiveAire\\n4.1', 'Temboo\\n3.9', 'Kibo',\n       'AeroVironment\\n4.2', 'Applied Research Laboratories\\n3.8',\n       'Conagen\\n2.0', 'Alector\\n4.8', 'Homology Medicines, Inc.\\n4.4',\n       'Inland Empire Health Plan\\n3.3',\n       'Sandia National Laboratories\\n3.8', 'CIA\\n3.8',\n       'Maven Wave Partners\\n4.5', 'Ovative Group\\n4.3', 'Kognetics\\n3.6',\n       'Envision Healthcare\\n2.9', 'ConsumerTrack\\n3.2',\n       'Meridian Knowledge Solutions\\n4.4', 'UST Global\\n4.2',\n       'IMG Systems\\n3.2', 'Trident Systems Inc\\n3.4', 'GrainBridge, LLC',\n       'First Health Group\\n3.2', 'Sprezzatura Management Consulting',\n       'Progress Rail, A Caterpillar Company\\n2.8',\n       'Axiologic Solutions\\n4.5', 'Indigo Slate\\n3.0', 'Cubic\\n3.3',\n       'Advanced Bio-Logic Solutions Corp\\n4.0',\n       'Alignment Healthcare\\n3.5', 'WGSN\\n3.5',\n       'ISYS Technologies, Inc.\\n3.6', 'TransVoyant\\n3.0', 'Geotab\\n4.3',\n       'EGlobalTech\\n3.7', 'Central Business Solutions, Inc\\n3.0',\n       'KeHE Distributors\\n2.5', 'Moxie Software\\n3.0',\n       'Unicom Technologies INC\\n4.7', 'Americo Life\\n3.3',\n       'Tokio Marine HCC\\n3.3', 'CACI International\\n3.5',\n       'Berico Technologies', 'Kehe Food Distributors', 'Pactera Edge',\n       'Qurate Retail Group\\n3.6', 'A-Line Staffing Solutions\\n4.1',\n       'Clear Ridge Defense', 'Criterion Systems, Inc.\\n3.8',\n       'Foundation Medicine\\n4.0', 'TRANZACT\\n3.6', 'JKGT', 'AccessHope',\n       'ChaTeck Incorporated\\n5.0'], dtype=object)"
          },
          "metadata": {}
        }
      ],
      "execution_count": 708
    },
    {
      "cell_type": "markdown",
      "source": "Podemos apreciar que podemos limpiarlas hasta antes del salto de línea (\\n).",
      "metadata": {}
    },
    {
      "cell_type": "code",
      "source": "data['Company Name'] = data['Company Name'].str.split('\\n').str[0]\ndata.head()",
      "metadata": {
        "trusted": true
      },
      "outputs": [
        {
          "execution_count": 709,
          "output_type": "execute_result",
          "data": {
            "text/plain": "                                     Job Description  Rating  \\\n0  Description\\n\\nThe Senior Data Scientist is re...     3.1   \n1  Secure our Nation, Ignite your Future\\n\\nJoin ...     4.2   \n2  Overview\\n\\n\\nAnalysis Group is one of the lar...     3.8   \n3  JOB DESCRIPTION:\\n\\nDo you have a passion for ...     3.5   \n4  Data Scientist\\nAffinity Solutions / Marketing...     2.9   \n\n         Company Name       Location            Headquarters  \\\n0         Healthfirst   New York, NY            New York, NY   \n1             ManTech  Chantilly, VA             Herndon, VA   \n2      Analysis Group     Boston, MA              Boston, MA   \n3             INFICON     Newton, MA  Bad Ragaz, Switzerland   \n4  Affinity Solutions   New York, NY            New York, NY   \n\n                      Size  Founded        Type of ownership  \\\n0   1001 to 5000 employees     1993   Nonprofit Organization   \n1  5001 to 10000 employees     1968         Company - Public   \n2   1001 to 5000 employees     1981  Private Practice / Firm   \n3    501 to 1000 employees     2000         Company - Public   \n4      51 to 200 employees     1998        Company - Private   \n\n                                Industry             Sector  \\\n0                     Insurance Carriers          Insurance   \n1                 Research & Development  Business Services   \n2                             Consulting  Business Services   \n3  Electrical & Electronic Manufacturing      Manufacturing   \n4                Advertising & Marketing  Business Services   \n\n                      Revenue       Job Group Job Level  Min Salary  \\\n0    Unknown / Non-Applicable  Data scientist    Senior      137000   \n1      $1 to $2 billion (USD)  Data scientist       NaN      137000   \n2  $100 to $500 million (USD)  Data scientist       NaN      137000   \n3  $100 to $500 million (USD)  Data scientist       NaN      137000   \n4    Unknown / Non-Applicable  Data scientist       NaN      137000   \n\n   Max Salary  Avg Salary  \n0      171000      154000  \n1      171000      154000  \n2      171000      154000  \n3      171000      154000  \n4      171000      154000  ",
            "text/html": "<div>\n<style scoped>\n    .dataframe tbody tr th:only-of-type {\n        vertical-align: middle;\n    }\n\n    .dataframe tbody tr th {\n        vertical-align: top;\n    }\n\n    .dataframe thead th {\n        text-align: right;\n    }\n</style>\n<table border=\"1\" class=\"dataframe\">\n  <thead>\n    <tr style=\"text-align: right;\">\n      <th></th>\n      <th>Job Description</th>\n      <th>Rating</th>\n      <th>Company Name</th>\n      <th>Location</th>\n      <th>Headquarters</th>\n      <th>Size</th>\n      <th>Founded</th>\n      <th>Type of ownership</th>\n      <th>Industry</th>\n      <th>Sector</th>\n      <th>Revenue</th>\n      <th>Job Group</th>\n      <th>Job Level</th>\n      <th>Min Salary</th>\n      <th>Max Salary</th>\n      <th>Avg Salary</th>\n    </tr>\n  </thead>\n  <tbody>\n    <tr>\n      <th>0</th>\n      <td>Description\\n\\nThe Senior Data Scientist is re...</td>\n      <td>3.1</td>\n      <td>Healthfirst</td>\n      <td>New York, NY</td>\n      <td>New York, NY</td>\n      <td>1001 to 5000 employees</td>\n      <td>1993</td>\n      <td>Nonprofit Organization</td>\n      <td>Insurance Carriers</td>\n      <td>Insurance</td>\n      <td>Unknown / Non-Applicable</td>\n      <td>Data scientist</td>\n      <td>Senior</td>\n      <td>137000</td>\n      <td>171000</td>\n      <td>154000</td>\n    </tr>\n    <tr>\n      <th>1</th>\n      <td>Secure our Nation, Ignite your Future\\n\\nJoin ...</td>\n      <td>4.2</td>\n      <td>ManTech</td>\n      <td>Chantilly, VA</td>\n      <td>Herndon, VA</td>\n      <td>5001 to 10000 employees</td>\n      <td>1968</td>\n      <td>Company - Public</td>\n      <td>Research &amp; Development</td>\n      <td>Business Services</td>\n      <td>$1 to $2 billion (USD)</td>\n      <td>Data scientist</td>\n      <td>NaN</td>\n      <td>137000</td>\n      <td>171000</td>\n      <td>154000</td>\n    </tr>\n    <tr>\n      <th>2</th>\n      <td>Overview\\n\\n\\nAnalysis Group is one of the lar...</td>\n      <td>3.8</td>\n      <td>Analysis Group</td>\n      <td>Boston, MA</td>\n      <td>Boston, MA</td>\n      <td>1001 to 5000 employees</td>\n      <td>1981</td>\n      <td>Private Practice / Firm</td>\n      <td>Consulting</td>\n      <td>Business Services</td>\n      <td>$100 to $500 million (USD)</td>\n      <td>Data scientist</td>\n      <td>NaN</td>\n      <td>137000</td>\n      <td>171000</td>\n      <td>154000</td>\n    </tr>\n    <tr>\n      <th>3</th>\n      <td>JOB DESCRIPTION:\\n\\nDo you have a passion for ...</td>\n      <td>3.5</td>\n      <td>INFICON</td>\n      <td>Newton, MA</td>\n      <td>Bad Ragaz, Switzerland</td>\n      <td>501 to 1000 employees</td>\n      <td>2000</td>\n      <td>Company - Public</td>\n      <td>Electrical &amp; Electronic Manufacturing</td>\n      <td>Manufacturing</td>\n      <td>$100 to $500 million (USD)</td>\n      <td>Data scientist</td>\n      <td>NaN</td>\n      <td>137000</td>\n      <td>171000</td>\n      <td>154000</td>\n    </tr>\n    <tr>\n      <th>4</th>\n      <td>Data Scientist\\nAffinity Solutions / Marketing...</td>\n      <td>2.9</td>\n      <td>Affinity Solutions</td>\n      <td>New York, NY</td>\n      <td>New York, NY</td>\n      <td>51 to 200 employees</td>\n      <td>1998</td>\n      <td>Company - Private</td>\n      <td>Advertising &amp; Marketing</td>\n      <td>Business Services</td>\n      <td>Unknown / Non-Applicable</td>\n      <td>Data scientist</td>\n      <td>NaN</td>\n      <td>137000</td>\n      <td>171000</td>\n      <td>154000</td>\n    </tr>\n  </tbody>\n</table>\n</div>"
          },
          "metadata": {}
        }
      ],
      "execution_count": 709
    },
    {
      "cell_type": "markdown",
      "source": "### Limpiar columna Founded",
      "metadata": {}
    },
    {
      "cell_type": "code",
      "source": "data['Founded'].unique()",
      "metadata": {
        "trusted": true
      },
      "outputs": [
        {
          "execution_count": 710,
          "output_type": "execute_result",
          "data": {
            "text/plain": "array([1993, 1968, 1981, 2000, 1998, 2010, 1996, 1990, 1983, 2014, 2012,\n       2016, 1965, 1973, 1986, 1997, 2015, 1945, 1988, 2017, 2011, 1967,\n       1860, 1992, 2003, 1951, 2005, 2019, 1925, 2008, 1999, 1978, 1966,\n       1912, 1958, 2013, 1849, 1781, 1926, 2006, 1994, 1863, 1995,   -1,\n       1982, 1974, 2001, 1985, 1913, 1971, 1911, 2009, 1959, 2007, 1939,\n       2002, 1961, 1963, 1969, 1946, 1957, 1953, 1948, 1850, 1851, 2004,\n       1976, 1918, 1954, 1947, 1955, 2018, 1937, 1917, 1935, 1929, 1820,\n       1952, 1932, 1894, 1960, 1788, 1830, 1984, 1933, 1880, 1887, 1970,\n       1942, 1980, 1989, 1908, 1853, 1875, 1914, 1898, 1956, 1977, 1987,\n       1896, 1972, 1949, 1962], dtype=int64)"
          },
          "metadata": {}
        }
      ],
      "execution_count": 710
    },
    {
      "cell_type": "markdown",
      "source": "Podemos ver que hay un valores de -1 que no tienen sentido.",
      "metadata": {}
    },
    {
      "cell_type": "code",
      "source": "data['Founded'] = np.where(data.Founded < 0, np.nan, data.Founded)\ndata['Founded'].unique()",
      "metadata": {
        "trusted": true
      },
      "outputs": [
        {
          "execution_count": 711,
          "output_type": "execute_result",
          "data": {
            "text/plain": "array([1993., 1968., 1981., 2000., 1998., 2010., 1996., 1990., 1983.,\n       2014., 2012., 2016., 1965., 1973., 1986., 1997., 2015., 1945.,\n       1988., 2017., 2011., 1967., 1860., 1992., 2003., 1951., 2005.,\n       2019., 1925., 2008., 1999., 1978., 1966., 1912., 1958., 2013.,\n       1849., 1781., 1926., 2006., 1994., 1863., 1995.,   nan, 1982.,\n       1974., 2001., 1985., 1913., 1971., 1911., 2009., 1959., 2007.,\n       1939., 2002., 1961., 1963., 1969., 1946., 1957., 1953., 1948.,\n       1850., 1851., 2004., 1976., 1918., 1954., 1947., 1955., 2018.,\n       1937., 1917., 1935., 1929., 1820., 1952., 1932., 1894., 1960.,\n       1788., 1830., 1984., 1933., 1880., 1887., 1970., 1942., 1980.,\n       1989., 1908., 1853., 1875., 1914., 1898., 1956., 1977., 1987.,\n       1896., 1972., 1949., 1962.])"
          },
          "metadata": {}
        }
      ],
      "execution_count": 711
    },
    {
      "cell_type": "markdown",
      "source": "### Limpiar columna de Rating",
      "metadata": {}
    },
    {
      "cell_type": "code",
      "source": "data['Rating'].unique()",
      "metadata": {
        "trusted": true
      },
      "outputs": [
        {
          "execution_count": 712,
          "output_type": "execute_result",
          "data": {
            "text/plain": "array([ 3.1,  4.2,  3.8,  3.5,  2.9,  3.9,  4.4,  3.6,  4.5,  4.7,  3.7,\n        3.4,  4.1,  3.2,  4.3,  2.8,  5. ,  4.8,  3.3,  2.7,  2.2,  2.6,\n        4. ,  2.5,  4.9,  2.4, -1. ,  2.3,  4.6,  3. ,  2.1,  2. ])"
          },
          "metadata": {}
        }
      ],
      "execution_count": 712
    },
    {
      "cell_type": "markdown",
      "source": "Vemos valores de -1 que no deberían estar, vamos a ponerlos a 0.",
      "metadata": {}
    },
    {
      "cell_type": "code",
      "source": "data['Rating'] = data['Rating'].replace(-1., 0)\ndata['Rating'].unique()",
      "metadata": {
        "trusted": true
      },
      "outputs": [
        {
          "execution_count": 713,
          "output_type": "execute_result",
          "data": {
            "text/plain": "array([3.1, 4.2, 3.8, 3.5, 2.9, 3.9, 4.4, 3.6, 4.5, 4.7, 3.7, 3.4, 4.1,\n       3.2, 4.3, 2.8, 5. , 4.8, 3.3, 2.7, 2.2, 2.6, 4. , 2.5, 4.9, 2.4,\n       0. , 2.3, 4.6, 3. , 2.1, 2. ])"
          },
          "metadata": {}
        }
      ],
      "execution_count": 713
    },
    {
      "cell_type": "markdown",
      "source": "### Limpiar columna de Job Description",
      "metadata": {}
    },
    {
      "cell_type": "code",
      "source": "data['Job Description'][0].split('\\n')",
      "metadata": {
        "trusted": true
      },
      "outputs": [
        {
          "execution_count": 714,
          "output_type": "execute_result",
          "data": {
            "text/plain": "['Description',\n '',\n 'The Senior Data Scientist is responsible for defining, building, and improving statistical models to improve business processes and outcomes in one or more healthcare domains such as Clinical, Enrollment, Claims, and Finance. As part of the broader analytics team, Data Scientist will gather and analyze data to solve and address complex business problems and evaluate scenarios to make predictions on future outcomes and work with the business to communicate and support decision-making. This position requires strong analytical skills and experience in analytic methods including multivariate regressions, hierarchical linear models, regression trees, clustering methods and other complex statistical techniques.',\n '',\n 'Duties & Responsibilities:',\n '',\n '• Develops advanced statistical models to predict, quantify or forecast various operational and performance metrics in multiple healthcare domains',\n '• Investigates, recommends, and initiates acquisition of new data resources from internal and external sources',\n '• Works with multiple teams to support data collection, integration, and retention requirements based on business needs',\n '• Identifies critical and emerging technologies that will support and extend quantitative analytic capabilities',\n '• Collaborates with business subject matter experts to select relevant sources of information',\n '• Develops expertise with multiple machine learning algorithms and data science techniques, such as exploratory data analysis and predictive modeling, graph theory, recommender systems, text analytics and validation',\n '• Develops expertise with Healthfirst datasets, data repositories, and data movement processes',\n '• Assists on projects/requests and may lead specific tasks within the project scope',\n '• Prepares and manipulates data for use in development of statistical models',\n '• Other duties as assigned',\n '',\n 'Minimum Qualifications:',\n '',\n \"-Bachelor's Degree\",\n '',\n 'Preferred Qualifications:',\n '',\n '- Master’s degree in Computer Science or Statistics',\n 'Familiarity with major cloud platforms such as AWS and Azure',\n 'Healthcare Industry Experience',\n '',\n 'Minimum Qualifications:',\n '',\n \"-Bachelor's Degree\",\n '',\n 'Preferred Qualifications:',\n '',\n '- Master’s degree in Computer Science or Statistics',\n 'Familiarity with major cloud platforms such as AWS and Azure',\n 'Healthcare Industry Experience',\n '',\n 'WE ARE AN EQUAL OPPORTUNITY EMPLOYER. Applicants and employees are considered for positions and are evaluated without regard to mental or physical disability, race, color, religion, gender, national origin, age, genetic information, military or veteran status, sexual orientation, marital status or any other protected Federal, State/Province or Local status unrelated to the performance of the work involved.',\n '',\n 'If you have a disability under the Americans with Disability Act or a similar law, and want a reasonable accommodation to assist with your job search or application for employment, please contact us by sending an email to careers@Healthfirst.org or calling 212-519-1798 . In your email please include a description of the accommodation you are requesting and a description of the position for which you are applying. Only reasonable accommodation requests related to applying for a position within Healthfirst Management Services will be reviewed at the e-mail address and phone number supplied. Thank you for considering a career with Healthfirst Management Services.',\n 'EEO Law Poster and Supplement',\n '',\n ']]>']"
          },
          "metadata": {}
        }
      ],
      "execution_count": 714
    },
    {
      "cell_type": "markdown",
      "source": "Definimos una función con la que extraer las habilidades que deseemos y señalizar con un 1 si está incluida y con un 0 si no.",
      "metadata": {}
    },
    {
      "cell_type": "code",
      "source": "def extract_skill(skill_name, job_description):\n    if skill_name.lower() in job_description.lower():\n        return 1\n    else:\n        return 0",
      "metadata": {
        "trusted": true
      },
      "outputs": [],
      "execution_count": 715
    },
    {
      "cell_type": "code",
      "source": "skills = ['Python', 'Excel', 'SQL', 'Tableau', 'Power BI', 'AWS', 'Azure', 'Spark', 'Hadoop']\n\nfor skill in skills:\n    data[skill] = data['Job Description'].apply(lambda x: extract_skill(skill, x))\n    print(data[skill].value_counts())",
      "metadata": {
        "trusted": true
      },
      "outputs": [
        {
          "name": "stdout",
          "text": "1    491\n0    181\nName: Python, dtype: int64\n0    376\n1    296\nName: Excel, dtype: int64\n1    356\n0    316\nName: SQL, dtype: int64\n0    549\n1    123\nName: Tableau, dtype: int64\n0    638\n1     34\nName: Power BI, dtype: int64\n0    498\n1    174\nName: AWS, dtype: int64\n0    622\n1     50\nName: Azure, dtype: int64\n0    483\n1    189\nName: Spark, dtype: int64\n0    529\n1    143\nName: Hadoop, dtype: int64\n",
          "output_type": "stream"
        }
      ],
      "execution_count": 716
    },
    {
      "cell_type": "code",
      "source": "data.drop(['Job Description'], axis=1, inplace=True)\ndata.head()",
      "metadata": {
        "trusted": true
      },
      "outputs": [
        {
          "execution_count": 717,
          "output_type": "execute_result",
          "data": {
            "text/plain": "   Rating        Company Name       Location            Headquarters  \\\n0     3.1         Healthfirst   New York, NY            New York, NY   \n1     4.2             ManTech  Chantilly, VA             Herndon, VA   \n2     3.8      Analysis Group     Boston, MA              Boston, MA   \n3     3.5             INFICON     Newton, MA  Bad Ragaz, Switzerland   \n4     2.9  Affinity Solutions   New York, NY            New York, NY   \n\n                      Size  Founded        Type of ownership  \\\n0   1001 to 5000 employees   1993.0   Nonprofit Organization   \n1  5001 to 10000 employees   1968.0         Company - Public   \n2   1001 to 5000 employees   1981.0  Private Practice / Firm   \n3    501 to 1000 employees   2000.0         Company - Public   \n4      51 to 200 employees   1998.0        Company - Private   \n\n                                Industry             Sector  \\\n0                     Insurance Carriers          Insurance   \n1                 Research & Development  Business Services   \n2                             Consulting  Business Services   \n3  Electrical & Electronic Manufacturing      Manufacturing   \n4                Advertising & Marketing  Business Services   \n\n                      Revenue  ... Avg Salary Python  Excel  SQL  Tableau  \\\n0    Unknown / Non-Applicable  ...     154000      0      0    0        0   \n1      $1 to $2 billion (USD)  ...     154000      0      0    1        0   \n2  $100 to $500 million (USD)  ...     154000      1      1    0        0   \n3  $100 to $500 million (USD)  ...     154000      1      1    1        0   \n4    Unknown / Non-Applicable  ...     154000      1      1    1        0   \n\n   Power BI  AWS  Azure  Spark  Hadoop  \n0         0    1      1      0       0  \n1         0    0      0      0       1  \n2         0    1      0      0       0  \n3         0    1      0      0       0  \n4         0    0      0      0       0  \n\n[5 rows x 24 columns]",
            "text/html": "<div>\n<style scoped>\n    .dataframe tbody tr th:only-of-type {\n        vertical-align: middle;\n    }\n\n    .dataframe tbody tr th {\n        vertical-align: top;\n    }\n\n    .dataframe thead th {\n        text-align: right;\n    }\n</style>\n<table border=\"1\" class=\"dataframe\">\n  <thead>\n    <tr style=\"text-align: right;\">\n      <th></th>\n      <th>Rating</th>\n      <th>Company Name</th>\n      <th>Location</th>\n      <th>Headquarters</th>\n      <th>Size</th>\n      <th>Founded</th>\n      <th>Type of ownership</th>\n      <th>Industry</th>\n      <th>Sector</th>\n      <th>Revenue</th>\n      <th>...</th>\n      <th>Avg Salary</th>\n      <th>Python</th>\n      <th>Excel</th>\n      <th>SQL</th>\n      <th>Tableau</th>\n      <th>Power BI</th>\n      <th>AWS</th>\n      <th>Azure</th>\n      <th>Spark</th>\n      <th>Hadoop</th>\n    </tr>\n  </thead>\n  <tbody>\n    <tr>\n      <th>0</th>\n      <td>3.1</td>\n      <td>Healthfirst</td>\n      <td>New York, NY</td>\n      <td>New York, NY</td>\n      <td>1001 to 5000 employees</td>\n      <td>1993.0</td>\n      <td>Nonprofit Organization</td>\n      <td>Insurance Carriers</td>\n      <td>Insurance</td>\n      <td>Unknown / Non-Applicable</td>\n      <td>...</td>\n      <td>154000</td>\n      <td>0</td>\n      <td>0</td>\n      <td>0</td>\n      <td>0</td>\n      <td>0</td>\n      <td>1</td>\n      <td>1</td>\n      <td>0</td>\n      <td>0</td>\n    </tr>\n    <tr>\n      <th>1</th>\n      <td>4.2</td>\n      <td>ManTech</td>\n      <td>Chantilly, VA</td>\n      <td>Herndon, VA</td>\n      <td>5001 to 10000 employees</td>\n      <td>1968.0</td>\n      <td>Company - Public</td>\n      <td>Research &amp; Development</td>\n      <td>Business Services</td>\n      <td>$1 to $2 billion (USD)</td>\n      <td>...</td>\n      <td>154000</td>\n      <td>0</td>\n      <td>0</td>\n      <td>1</td>\n      <td>0</td>\n      <td>0</td>\n      <td>0</td>\n      <td>0</td>\n      <td>0</td>\n      <td>1</td>\n    </tr>\n    <tr>\n      <th>2</th>\n      <td>3.8</td>\n      <td>Analysis Group</td>\n      <td>Boston, MA</td>\n      <td>Boston, MA</td>\n      <td>1001 to 5000 employees</td>\n      <td>1981.0</td>\n      <td>Private Practice / Firm</td>\n      <td>Consulting</td>\n      <td>Business Services</td>\n      <td>$100 to $500 million (USD)</td>\n      <td>...</td>\n      <td>154000</td>\n      <td>1</td>\n      <td>1</td>\n      <td>0</td>\n      <td>0</td>\n      <td>0</td>\n      <td>1</td>\n      <td>0</td>\n      <td>0</td>\n      <td>0</td>\n    </tr>\n    <tr>\n      <th>3</th>\n      <td>3.5</td>\n      <td>INFICON</td>\n      <td>Newton, MA</td>\n      <td>Bad Ragaz, Switzerland</td>\n      <td>501 to 1000 employees</td>\n      <td>2000.0</td>\n      <td>Company - Public</td>\n      <td>Electrical &amp; Electronic Manufacturing</td>\n      <td>Manufacturing</td>\n      <td>$100 to $500 million (USD)</td>\n      <td>...</td>\n      <td>154000</td>\n      <td>1</td>\n      <td>1</td>\n      <td>1</td>\n      <td>0</td>\n      <td>0</td>\n      <td>1</td>\n      <td>0</td>\n      <td>0</td>\n      <td>0</td>\n    </tr>\n    <tr>\n      <th>4</th>\n      <td>2.9</td>\n      <td>Affinity Solutions</td>\n      <td>New York, NY</td>\n      <td>New York, NY</td>\n      <td>51 to 200 employees</td>\n      <td>1998.0</td>\n      <td>Company - Private</td>\n      <td>Advertising &amp; Marketing</td>\n      <td>Business Services</td>\n      <td>Unknown / Non-Applicable</td>\n      <td>...</td>\n      <td>154000</td>\n      <td>1</td>\n      <td>1</td>\n      <td>1</td>\n      <td>0</td>\n      <td>0</td>\n      <td>0</td>\n      <td>0</td>\n      <td>0</td>\n      <td>0</td>\n    </tr>\n  </tbody>\n</table>\n<p>5 rows × 24 columns</p>\n</div>"
          },
          "metadata": {}
        }
      ],
      "execution_count": 717
    },
    {
      "cell_type": "markdown",
      "source": "### Limpiar columna de Size",
      "metadata": {}
    },
    {
      "cell_type": "code",
      "source": "data['Size'].unique()",
      "metadata": {
        "trusted": true
      },
      "outputs": [
        {
          "execution_count": 718,
          "output_type": "execute_result",
          "data": {
            "text/plain": "array(['1001 to 5000 employees', '5001 to 10000 employees',\n       '501 to 1000 employees', '51 to 200 employees', '10000+ employees',\n       '201 to 500 employees', '1 to 50 employees', '-1', 'Unknown'],\n      dtype=object)"
          },
          "metadata": {}
        }
      ],
      "execution_count": 718
    },
    {
      "cell_type": "markdown",
      "source": "Teniendo en cuenta que las empresas se suelen clasificar según el tamaño de la siguiente forma: \n- Micro: 1-10\r\n- Small: 1-50\r\n- Middle: 51-1000\r\n- Corporate: > 1000000",
      "metadata": {}
    },
    {
      "cell_type": "code",
      "source": "segment_mapping = {\n    '1 to 50 employees': 'Small',\n    '51 to 200 employees': 'Middle',\n    '201 to 500 employees': 'Middle',\n    '501 to 1000 employees': 'Middle',\n    '1001 to 5000 employees': 'Corporate',\n    '5001 to 10000 employees': 'Corporate',\n    '10000+ employees': 'Corporate',\n    'Unknown': np.nan,\n    '-1': np.nan\n}\n\ndata['Segment'] = data['Size'].replace(segment_mapping)\ndata['Segment'].value_counts()\n",
      "metadata": {
        "trusted": true
      },
      "outputs": [
        {
          "execution_count": 719,
          "output_type": "execute_result",
          "data": {
            "text/plain": "Middle       297\nCorporate    245\nSmall         86\nName: Segment, dtype: int64"
          },
          "metadata": {}
        }
      ],
      "execution_count": 719
    },
    {
      "cell_type": "code",
      "source": "data.drop(['Size'], axis=1, inplace=True)\ndata.head()",
      "metadata": {
        "trusted": true
      },
      "outputs": [
        {
          "execution_count": 720,
          "output_type": "execute_result",
          "data": {
            "text/plain": "   Rating        Company Name       Location            Headquarters  Founded  \\\n0     3.1         Healthfirst   New York, NY            New York, NY   1993.0   \n1     4.2             ManTech  Chantilly, VA             Herndon, VA   1968.0   \n2     3.8      Analysis Group     Boston, MA              Boston, MA   1981.0   \n3     3.5             INFICON     Newton, MA  Bad Ragaz, Switzerland   2000.0   \n4     2.9  Affinity Solutions   New York, NY            New York, NY   1998.0   \n\n         Type of ownership                               Industry  \\\n0   Nonprofit Organization                     Insurance Carriers   \n1         Company - Public                 Research & Development   \n2  Private Practice / Firm                             Consulting   \n3         Company - Public  Electrical & Electronic Manufacturing   \n4        Company - Private                Advertising & Marketing   \n\n              Sector                     Revenue       Job Group  ... Python  \\\n0          Insurance    Unknown / Non-Applicable  Data scientist  ...      0   \n1  Business Services      $1 to $2 billion (USD)  Data scientist  ...      0   \n2  Business Services  $100 to $500 million (USD)  Data scientist  ...      1   \n3      Manufacturing  $100 to $500 million (USD)  Data scientist  ...      1   \n4  Business Services    Unknown / Non-Applicable  Data scientist  ...      1   \n\n   Excel  SQL  Tableau  Power BI  AWS  Azure  Spark  Hadoop    Segment  \n0      0    0        0         0    1      1      0       0  Corporate  \n1      0    1        0         0    0      0      0       1  Corporate  \n2      1    0        0         0    1      0      0       0  Corporate  \n3      1    1        0         0    1      0      0       0     Middle  \n4      1    1        0         0    0      0      0       0     Middle  \n\n[5 rows x 24 columns]",
            "text/html": "<div>\n<style scoped>\n    .dataframe tbody tr th:only-of-type {\n        vertical-align: middle;\n    }\n\n    .dataframe tbody tr th {\n        vertical-align: top;\n    }\n\n    .dataframe thead th {\n        text-align: right;\n    }\n</style>\n<table border=\"1\" class=\"dataframe\">\n  <thead>\n    <tr style=\"text-align: right;\">\n      <th></th>\n      <th>Rating</th>\n      <th>Company Name</th>\n      <th>Location</th>\n      <th>Headquarters</th>\n      <th>Founded</th>\n      <th>Type of ownership</th>\n      <th>Industry</th>\n      <th>Sector</th>\n      <th>Revenue</th>\n      <th>Job Group</th>\n      <th>...</th>\n      <th>Python</th>\n      <th>Excel</th>\n      <th>SQL</th>\n      <th>Tableau</th>\n      <th>Power BI</th>\n      <th>AWS</th>\n      <th>Azure</th>\n      <th>Spark</th>\n      <th>Hadoop</th>\n      <th>Segment</th>\n    </tr>\n  </thead>\n  <tbody>\n    <tr>\n      <th>0</th>\n      <td>3.1</td>\n      <td>Healthfirst</td>\n      <td>New York, NY</td>\n      <td>New York, NY</td>\n      <td>1993.0</td>\n      <td>Nonprofit Organization</td>\n      <td>Insurance Carriers</td>\n      <td>Insurance</td>\n      <td>Unknown / Non-Applicable</td>\n      <td>Data scientist</td>\n      <td>...</td>\n      <td>0</td>\n      <td>0</td>\n      <td>0</td>\n      <td>0</td>\n      <td>0</td>\n      <td>1</td>\n      <td>1</td>\n      <td>0</td>\n      <td>0</td>\n      <td>Corporate</td>\n    </tr>\n    <tr>\n      <th>1</th>\n      <td>4.2</td>\n      <td>ManTech</td>\n      <td>Chantilly, VA</td>\n      <td>Herndon, VA</td>\n      <td>1968.0</td>\n      <td>Company - Public</td>\n      <td>Research &amp; Development</td>\n      <td>Business Services</td>\n      <td>$1 to $2 billion (USD)</td>\n      <td>Data scientist</td>\n      <td>...</td>\n      <td>0</td>\n      <td>0</td>\n      <td>1</td>\n      <td>0</td>\n      <td>0</td>\n      <td>0</td>\n      <td>0</td>\n      <td>0</td>\n      <td>1</td>\n      <td>Corporate</td>\n    </tr>\n    <tr>\n      <th>2</th>\n      <td>3.8</td>\n      <td>Analysis Group</td>\n      <td>Boston, MA</td>\n      <td>Boston, MA</td>\n      <td>1981.0</td>\n      <td>Private Practice / Firm</td>\n      <td>Consulting</td>\n      <td>Business Services</td>\n      <td>$100 to $500 million (USD)</td>\n      <td>Data scientist</td>\n      <td>...</td>\n      <td>1</td>\n      <td>1</td>\n      <td>0</td>\n      <td>0</td>\n      <td>0</td>\n      <td>1</td>\n      <td>0</td>\n      <td>0</td>\n      <td>0</td>\n      <td>Corporate</td>\n    </tr>\n    <tr>\n      <th>3</th>\n      <td>3.5</td>\n      <td>INFICON</td>\n      <td>Newton, MA</td>\n      <td>Bad Ragaz, Switzerland</td>\n      <td>2000.0</td>\n      <td>Company - Public</td>\n      <td>Electrical &amp; Electronic Manufacturing</td>\n      <td>Manufacturing</td>\n      <td>$100 to $500 million (USD)</td>\n      <td>Data scientist</td>\n      <td>...</td>\n      <td>1</td>\n      <td>1</td>\n      <td>1</td>\n      <td>0</td>\n      <td>0</td>\n      <td>1</td>\n      <td>0</td>\n      <td>0</td>\n      <td>0</td>\n      <td>Middle</td>\n    </tr>\n    <tr>\n      <th>4</th>\n      <td>2.9</td>\n      <td>Affinity Solutions</td>\n      <td>New York, NY</td>\n      <td>New York, NY</td>\n      <td>1998.0</td>\n      <td>Company - Private</td>\n      <td>Advertising &amp; Marketing</td>\n      <td>Business Services</td>\n      <td>Unknown / Non-Applicable</td>\n      <td>Data scientist</td>\n      <td>...</td>\n      <td>1</td>\n      <td>1</td>\n      <td>1</td>\n      <td>0</td>\n      <td>0</td>\n      <td>0</td>\n      <td>0</td>\n      <td>0</td>\n      <td>0</td>\n      <td>Middle</td>\n    </tr>\n  </tbody>\n</table>\n<p>5 rows × 24 columns</p>\n</div>"
          },
          "metadata": {}
        }
      ],
      "execution_count": 720
    },
    {
      "cell_type": "markdown",
      "source": "### Limpiar columna de Type of ownership",
      "metadata": {}
    },
    {
      "cell_type": "code",
      "source": "data['Type of ownership'].value_counts()",
      "metadata": {
        "trusted": true
      },
      "outputs": [
        {
          "execution_count": 721,
          "output_type": "execute_result",
          "data": {
            "text/plain": "Company - Private                 397\nCompany - Public                  153\nNonprofit Organization             36\nSubsidiary or Business Segment     28\n-1                                 27\nGovernment                         10\nOther Organization                  5\nPrivate Practice / Firm             4\nUnknown                             4\nCollege / University                3\nSelf-employed                       2\nContract                            2\nHospital                            1\nName: Type of ownership, dtype: int64"
          },
          "metadata": {}
        }
      ],
      "execution_count": 721
    },
    {
      "cell_type": "markdown",
      "source": "Vemos que tanto \"-1\" como \"Unknown\" encajarían en \"Other organization\".",
      "metadata": {}
    },
    {
      "cell_type": "code",
      "source": "ownership_mapping = {\n    'Unknown': 'Other Organization',\n    '-1': 'Other Organization'\n}\n\ndata['Type of ownership'] = data['Type of ownership'].replace(ownership_mapping)\ndata['Type of ownership'].value_counts()",
      "metadata": {
        "trusted": true
      },
      "outputs": [
        {
          "execution_count": 722,
          "output_type": "execute_result",
          "data": {
            "text/plain": "Company - Private                 397\nCompany - Public                  153\nNonprofit Organization             36\nOther Organization                 36\nSubsidiary or Business Segment     28\nGovernment                         10\nPrivate Practice / Firm             4\nCollege / University                3\nSelf-employed                       2\nContract                            2\nHospital                            1\nName: Type of ownership, dtype: int64"
          },
          "metadata": {}
        }
      ],
      "execution_count": 722
    },
    {
      "cell_type": "markdown",
      "source": "### Limpiar columna de Industry",
      "metadata": {}
    },
    {
      "cell_type": "code",
      "source": "data['Industry'].value_counts()",
      "metadata": {
        "trusted": true
      },
      "outputs": [
        {
          "execution_count": 723,
          "output_type": "execute_result",
          "data": {
            "text/plain": "-1                                          71\nBiotech & Pharmaceuticals                   66\nIT Services                                 61\nComputer Hardware & Software                57\nAerospace & Defense                         46\nEnterprise Software & Network Solutions     43\nConsulting                                  38\nStaffing & Outsourcing                      36\nInsurance Carriers                          28\nInternet                                    27\nAdvertising & Marketing                     23\nHealth Care Services & Hospitals            21\nResearch & Development                      17\nFederal Agencies                            16\nInvestment Banking & Asset Management       13\nBanks & Credit Unions                        8\nLending                                      8\nEnergy                                       5\nConsumer Products Manufacturing              5\nTelecommunications Services                  5\nInsurance Agencies & Brokerages              4\nFood & Beverage Manufacturing                4\nUtilities                                    3\nElectrical & Electronic Manufacturing        3\nColleges & Universities                      3\nOther Retail Stores                          3\nArchitectural & Engineering Services         3\nChemical Manufacturing                       3\nReal Estate                                  3\nMiscellaneous Manufacturing                  3\nAccounting                                   3\nWholesale                                    3\nIndustrial Manufacturing                     3\nVideo Games                                  3\nTravel Agencies                              2\nExpress Delivery Services                    2\nTimber Operations                            2\nFinancial Transaction Processing             2\nConstruction                                 2\nHealth, Beauty, & Fitness                    2\nTransportation Equipment Manufacturing       2\nOil & Gas Services                           2\nVenture Capital & Private Equity             2\nConsumer Electronics & Appliances Stores     2\nDepartment, Clothing, & Shoe Stores          1\nPublishing                                   1\nSocial Assistance                            1\nFarm Support Services                        1\nLogistics & Supply Chain                     1\nTransportation Management                    1\nState & Regional Agencies                    1\nHotels, Motels, & Resorts                    1\nFood & Beverage Stores                       1\nNews Outlet                                  1\nTelecommunications Manufacturing             1\nCable, Internet & Telephone Providers        1\nShipping                                     1\nRail                                         1\nName: Industry, dtype: int64"
          },
          "metadata": {}
        }
      ],
      "execution_count": 723
    },
    {
      "cell_type": "markdown",
      "source": "Eliminamos el -1 y los incluimos en Other Industries.",
      "metadata": {}
    },
    {
      "cell_type": "code",
      "source": "data['Industry'] = data['Industry'].replace({'-1':'Other Industries'})\ndata['Industry'].value_counts()",
      "metadata": {
        "trusted": true
      },
      "outputs": [
        {
          "execution_count": 724,
          "output_type": "execute_result",
          "data": {
            "text/plain": "Other Industries                            71\nBiotech & Pharmaceuticals                   66\nIT Services                                 61\nComputer Hardware & Software                57\nAerospace & Defense                         46\nEnterprise Software & Network Solutions     43\nConsulting                                  38\nStaffing & Outsourcing                      36\nInsurance Carriers                          28\nInternet                                    27\nAdvertising & Marketing                     23\nHealth Care Services & Hospitals            21\nResearch & Development                      17\nFederal Agencies                            16\nInvestment Banking & Asset Management       13\nBanks & Credit Unions                        8\nLending                                      8\nEnergy                                       5\nConsumer Products Manufacturing              5\nTelecommunications Services                  5\nInsurance Agencies & Brokerages              4\nFood & Beverage Manufacturing                4\nUtilities                                    3\nElectrical & Electronic Manufacturing        3\nColleges & Universities                      3\nOther Retail Stores                          3\nArchitectural & Engineering Services         3\nChemical Manufacturing                       3\nReal Estate                                  3\nMiscellaneous Manufacturing                  3\nAccounting                                   3\nWholesale                                    3\nIndustrial Manufacturing                     3\nVideo Games                                  3\nTravel Agencies                              2\nExpress Delivery Services                    2\nTimber Operations                            2\nFinancial Transaction Processing             2\nConstruction                                 2\nHealth, Beauty, & Fitness                    2\nTransportation Equipment Manufacturing       2\nOil & Gas Services                           2\nVenture Capital & Private Equity             2\nConsumer Electronics & Appliances Stores     2\nDepartment, Clothing, & Shoe Stores          1\nPublishing                                   1\nSocial Assistance                            1\nFarm Support Services                        1\nLogistics & Supply Chain                     1\nTransportation Management                    1\nState & Regional Agencies                    1\nHotels, Motels, & Resorts                    1\nFood & Beverage Stores                       1\nNews Outlet                                  1\nTelecommunications Manufacturing             1\nCable, Internet & Telephone Providers        1\nShipping                                     1\nRail                                         1\nName: Industry, dtype: int64"
          },
          "metadata": {}
        }
      ],
      "execution_count": 724
    },
    {
      "cell_type": "markdown",
      "source": "Creamos un diccionario para agrupar los diferentes trabajos en palabras claves del sector.",
      "metadata": {}
    },
    {
      "cell_type": "code",
      "source": "industry_mapping = {\n    'Biotech & Pharmaceuticals': 'Beauty & Health',\n    'IT Services': 'Technology',\n    'Computer Hardware & Software': 'Technology',\n    'Aerospace & Defense': 'Space',\n    'Enterprise Software & Network Solutions': 'Other Industries',\n    'Consulting': 'Other Industries',\n    'Staffing & Outsourcing': 'Other Industries',\n    'Insurance Carriers': 'Finance',\n    'Internet': 'Technology',\n    'Advertising & Marketing': 'Media',\n    'Banks & Credit Unions': 'Finance',\n    'Health Care Services & Hospitals': 'Beauty & Health',\n    'Research & Development': 'Business',\n    'Federal Agencies': 'Other Industries',\n    'Investment Banking & Asset Management': 'Finance',\n    'Lending': 'Finance',\n    'Energy': 'Energy',\n    'Consumer Products Manufacturing': 'Manufacturing',\n    'Telecommunications Services': 'Technology',\n    'Insurance Agencies & Brokerage': 'Finance',\n    'Food & Beverage Manufacturing': 'Manufacturing',\n    'Utilities': 'Commerce',\n    'Electrical & Electronic Manufacturing': 'Manufacturing',\n    'Colleges & Universities': 'Education',\n    'Other Retail Stores': 'Commerce',\n    'Architectural & Engineering Services': 'Construction',\n    'Chemical Manufacturing': 'Manufacturing',\n    'Real Estate': 'Construction',\n    'Miscellaneous Manufacturing': 'Manufacturing',\n    'Accounting': 'Finance',\n    'Wholesale': 'Commerce',\n    'Industrial Manufacturing': 'Manufacturing',\n    'Video Games': 'Entertainment',\n    'Travel Agencies': 'Travelling',\n    'Express Delivery Services': 'Logistic',\n    'Timber Operations': 'Manufacturing',\n    'Oil & Gas Services': 'Energy',\n    'Venture Capital & Private Equity': 'Finance',\n    'Consumer Electronics & Appliances Stores': 'Commerce',\n    'Department, Clothing, & Shoe Stores': 'Commerce',\n    'Publishing': 'Media',\n    'Social Assistance': 'Other Industries',\n    'Farm Support Services': 'Other Industries',\n    'Logistics & Supply Chain': 'Logistic',\n    'Transportation Management': 'Transportation',\n    'State & Regional Agencies': 'Other Industries',\n    'Hotels, Motels, & Resorts': 'Travelling',\n    'Food & Beverage Stores': 'Commerce',\n    'News Outlet': 'Media',\n    'Telecommunications Manufacturing': 'Manufacturing',\n    'Cable, Internet & Telephone Providers': 'Commerce',\n    'Shipping': 'Logistic',\n    'Rail': 'Transportation',\n    'Transportation Equipment Manufacturing': 'Manufacturing',\n    'Financial Transaction Processing': 'Finance',\n    'Health, Beauty, & Fitness': 'Beauty & Health',\n    'Insurance Agencies & Brokerages': 'Finance'\n}\n\ndata['Industry'] = data['Industry'].replace(industry_mapping)\ndata['Industry'].value_counts()",
      "metadata": {
        "trusted": true
      },
      "outputs": [
        {
          "execution_count": 725,
          "output_type": "execute_result",
          "data": {
            "text/plain": "Other Industries    207\nTechnology          150\nBeauty & Health      89\nFinance              68\nSpace                46\nManufacturing        26\nMedia                25\nBusiness             17\nCommerce             14\nConstruction          8\nEnergy                7\nLogistic              4\nEntertainment         3\nTravelling            3\nEducation             3\nTransportation        2\nName: Industry, dtype: int64"
          },
          "metadata": {}
        }
      ],
      "execution_count": 725
    },
    {
      "cell_type": "code",
      "source": "data.head()",
      "metadata": {
        "trusted": true
      },
      "outputs": [
        {
          "execution_count": 726,
          "output_type": "execute_result",
          "data": {
            "text/plain": "   Rating        Company Name       Location            Headquarters  Founded  \\\n0     3.1         Healthfirst   New York, NY            New York, NY   1993.0   \n1     4.2             ManTech  Chantilly, VA             Herndon, VA   1968.0   \n2     3.8      Analysis Group     Boston, MA              Boston, MA   1981.0   \n3     3.5             INFICON     Newton, MA  Bad Ragaz, Switzerland   2000.0   \n4     2.9  Affinity Solutions   New York, NY            New York, NY   1998.0   \n\n         Type of ownership          Industry             Sector  \\\n0   Nonprofit Organization           Finance          Insurance   \n1         Company - Public          Business  Business Services   \n2  Private Practice / Firm  Other Industries  Business Services   \n3         Company - Public     Manufacturing      Manufacturing   \n4        Company - Private             Media  Business Services   \n\n                      Revenue       Job Group  ... Python  Excel  SQL  \\\n0    Unknown / Non-Applicable  Data scientist  ...      0      0    0   \n1      $1 to $2 billion (USD)  Data scientist  ...      0      0    1   \n2  $100 to $500 million (USD)  Data scientist  ...      1      1    0   \n3  $100 to $500 million (USD)  Data scientist  ...      1      1    1   \n4    Unknown / Non-Applicable  Data scientist  ...      1      1    1   \n\n   Tableau  Power BI  AWS  Azure  Spark  Hadoop    Segment  \n0        0         0    1      1      0       0  Corporate  \n1        0         0    0      0      0       1  Corporate  \n2        0         0    1      0      0       0  Corporate  \n3        0         0    1      0      0       0     Middle  \n4        0         0    0      0      0       0     Middle  \n\n[5 rows x 24 columns]",
            "text/html": "<div>\n<style scoped>\n    .dataframe tbody tr th:only-of-type {\n        vertical-align: middle;\n    }\n\n    .dataframe tbody tr th {\n        vertical-align: top;\n    }\n\n    .dataframe thead th {\n        text-align: right;\n    }\n</style>\n<table border=\"1\" class=\"dataframe\">\n  <thead>\n    <tr style=\"text-align: right;\">\n      <th></th>\n      <th>Rating</th>\n      <th>Company Name</th>\n      <th>Location</th>\n      <th>Headquarters</th>\n      <th>Founded</th>\n      <th>Type of ownership</th>\n      <th>Industry</th>\n      <th>Sector</th>\n      <th>Revenue</th>\n      <th>Job Group</th>\n      <th>...</th>\n      <th>Python</th>\n      <th>Excel</th>\n      <th>SQL</th>\n      <th>Tableau</th>\n      <th>Power BI</th>\n      <th>AWS</th>\n      <th>Azure</th>\n      <th>Spark</th>\n      <th>Hadoop</th>\n      <th>Segment</th>\n    </tr>\n  </thead>\n  <tbody>\n    <tr>\n      <th>0</th>\n      <td>3.1</td>\n      <td>Healthfirst</td>\n      <td>New York, NY</td>\n      <td>New York, NY</td>\n      <td>1993.0</td>\n      <td>Nonprofit Organization</td>\n      <td>Finance</td>\n      <td>Insurance</td>\n      <td>Unknown / Non-Applicable</td>\n      <td>Data scientist</td>\n      <td>...</td>\n      <td>0</td>\n      <td>0</td>\n      <td>0</td>\n      <td>0</td>\n      <td>0</td>\n      <td>1</td>\n      <td>1</td>\n      <td>0</td>\n      <td>0</td>\n      <td>Corporate</td>\n    </tr>\n    <tr>\n      <th>1</th>\n      <td>4.2</td>\n      <td>ManTech</td>\n      <td>Chantilly, VA</td>\n      <td>Herndon, VA</td>\n      <td>1968.0</td>\n      <td>Company - Public</td>\n      <td>Business</td>\n      <td>Business Services</td>\n      <td>$1 to $2 billion (USD)</td>\n      <td>Data scientist</td>\n      <td>...</td>\n      <td>0</td>\n      <td>0</td>\n      <td>1</td>\n      <td>0</td>\n      <td>0</td>\n      <td>0</td>\n      <td>0</td>\n      <td>0</td>\n      <td>1</td>\n      <td>Corporate</td>\n    </tr>\n    <tr>\n      <th>2</th>\n      <td>3.8</td>\n      <td>Analysis Group</td>\n      <td>Boston, MA</td>\n      <td>Boston, MA</td>\n      <td>1981.0</td>\n      <td>Private Practice / Firm</td>\n      <td>Other Industries</td>\n      <td>Business Services</td>\n      <td>$100 to $500 million (USD)</td>\n      <td>Data scientist</td>\n      <td>...</td>\n      <td>1</td>\n      <td>1</td>\n      <td>0</td>\n      <td>0</td>\n      <td>0</td>\n      <td>1</td>\n      <td>0</td>\n      <td>0</td>\n      <td>0</td>\n      <td>Corporate</td>\n    </tr>\n    <tr>\n      <th>3</th>\n      <td>3.5</td>\n      <td>INFICON</td>\n      <td>Newton, MA</td>\n      <td>Bad Ragaz, Switzerland</td>\n      <td>2000.0</td>\n      <td>Company - Public</td>\n      <td>Manufacturing</td>\n      <td>Manufacturing</td>\n      <td>$100 to $500 million (USD)</td>\n      <td>Data scientist</td>\n      <td>...</td>\n      <td>1</td>\n      <td>1</td>\n      <td>1</td>\n      <td>0</td>\n      <td>0</td>\n      <td>1</td>\n      <td>0</td>\n      <td>0</td>\n      <td>0</td>\n      <td>Middle</td>\n    </tr>\n    <tr>\n      <th>4</th>\n      <td>2.9</td>\n      <td>Affinity Solutions</td>\n      <td>New York, NY</td>\n      <td>New York, NY</td>\n      <td>1998.0</td>\n      <td>Company - Private</td>\n      <td>Media</td>\n      <td>Business Services</td>\n      <td>Unknown / Non-Applicable</td>\n      <td>Data scientist</td>\n      <td>...</td>\n      <td>1</td>\n      <td>1</td>\n      <td>1</td>\n      <td>0</td>\n      <td>0</td>\n      <td>0</td>\n      <td>0</td>\n      <td>0</td>\n      <td>0</td>\n      <td>Middle</td>\n    </tr>\n  </tbody>\n</table>\n<p>5 rows × 24 columns</p>\n</div>"
          },
          "metadata": {}
        }
      ],
      "execution_count": 726
    },
    {
      "cell_type": "code",
      "source": "data['Revenue'].value_counts()",
      "metadata": {
        "trusted": true
      },
      "outputs": [
        {
          "execution_count": 727,
          "output_type": "execute_result",
          "data": {
            "text/plain": "Unknown / Non-Applicable            213\n$100 to $500 million (USD)           94\n$10+ billion (USD)                   63\n$2 to $5 billion (USD)               45\n$10 to $25 million (USD)             41\n$1 to $2 billion (USD)               36\n$25 to $50 million (USD)             36\n$50 to $100 million (USD)            31\n$1 to $5 million (USD)               31\n-1                                   27\n$500 million to $1 billion (USD)     19\n$5 to $10 million (USD)              14\nLess than $1 million (USD)           14\n$5 to $10 billion (USD)               8\nName: Revenue, dtype: int64"
          },
          "metadata": {}
        }
      ],
      "execution_count": 727
    },
    {
      "cell_type": "code",
      "source": "data['Revenue'] = data['Revenue'].replace('-1', np.nan)\ndata['Revenue'].value_counts()",
      "metadata": {
        "trusted": true
      },
      "outputs": [
        {
          "execution_count": 728,
          "output_type": "execute_result",
          "data": {
            "text/plain": "Unknown / Non-Applicable            213\n$100 to $500 million (USD)           94\n$10+ billion (USD)                   63\n$2 to $5 billion (USD)               45\n$10 to $25 million (USD)             41\n$1 to $2 billion (USD)               36\n$25 to $50 million (USD)             36\n$50 to $100 million (USD)            31\n$1 to $5 million (USD)               31\n$500 million to $1 billion (USD)     19\n$5 to $10 million (USD)              14\nLess than $1 million (USD)           14\n$5 to $10 billion (USD)               8\nName: Revenue, dtype: int64"
          },
          "metadata": {}
        }
      ],
      "execution_count": 728
    },
    {
      "cell_type": "code",
      "source": "dataCleaned = data.copy()\ndataCleaned.head()",
      "metadata": {
        "trusted": true
      },
      "outputs": [
        {
          "execution_count": 729,
          "output_type": "execute_result",
          "data": {
            "text/plain": "   Rating        Company Name       Location            Headquarters  Founded  \\\n0     3.1         Healthfirst   New York, NY            New York, NY   1993.0   \n1     4.2             ManTech  Chantilly, VA             Herndon, VA   1968.0   \n2     3.8      Analysis Group     Boston, MA              Boston, MA   1981.0   \n3     3.5             INFICON     Newton, MA  Bad Ragaz, Switzerland   2000.0   \n4     2.9  Affinity Solutions   New York, NY            New York, NY   1998.0   \n\n         Type of ownership          Industry             Sector  \\\n0   Nonprofit Organization           Finance          Insurance   \n1         Company - Public          Business  Business Services   \n2  Private Practice / Firm  Other Industries  Business Services   \n3         Company - Public     Manufacturing      Manufacturing   \n4        Company - Private             Media  Business Services   \n\n                      Revenue       Job Group  ... Python  Excel  SQL  \\\n0    Unknown / Non-Applicable  Data scientist  ...      0      0    0   \n1      $1 to $2 billion (USD)  Data scientist  ...      0      0    1   \n2  $100 to $500 million (USD)  Data scientist  ...      1      1    0   \n3  $100 to $500 million (USD)  Data scientist  ...      1      1    1   \n4    Unknown / Non-Applicable  Data scientist  ...      1      1    1   \n\n   Tableau  Power BI  AWS  Azure  Spark  Hadoop    Segment  \n0        0         0    1      1      0       0  Corporate  \n1        0         0    0      0      0       1  Corporate  \n2        0         0    1      0      0       0  Corporate  \n3        0         0    1      0      0       0     Middle  \n4        0         0    0      0      0       0     Middle  \n\n[5 rows x 24 columns]",
            "text/html": "<div>\n<style scoped>\n    .dataframe tbody tr th:only-of-type {\n        vertical-align: middle;\n    }\n\n    .dataframe tbody tr th {\n        vertical-align: top;\n    }\n\n    .dataframe thead th {\n        text-align: right;\n    }\n</style>\n<table border=\"1\" class=\"dataframe\">\n  <thead>\n    <tr style=\"text-align: right;\">\n      <th></th>\n      <th>Rating</th>\n      <th>Company Name</th>\n      <th>Location</th>\n      <th>Headquarters</th>\n      <th>Founded</th>\n      <th>Type of ownership</th>\n      <th>Industry</th>\n      <th>Sector</th>\n      <th>Revenue</th>\n      <th>Job Group</th>\n      <th>...</th>\n      <th>Python</th>\n      <th>Excel</th>\n      <th>SQL</th>\n      <th>Tableau</th>\n      <th>Power BI</th>\n      <th>AWS</th>\n      <th>Azure</th>\n      <th>Spark</th>\n      <th>Hadoop</th>\n      <th>Segment</th>\n    </tr>\n  </thead>\n  <tbody>\n    <tr>\n      <th>0</th>\n      <td>3.1</td>\n      <td>Healthfirst</td>\n      <td>New York, NY</td>\n      <td>New York, NY</td>\n      <td>1993.0</td>\n      <td>Nonprofit Organization</td>\n      <td>Finance</td>\n      <td>Insurance</td>\n      <td>Unknown / Non-Applicable</td>\n      <td>Data scientist</td>\n      <td>...</td>\n      <td>0</td>\n      <td>0</td>\n      <td>0</td>\n      <td>0</td>\n      <td>0</td>\n      <td>1</td>\n      <td>1</td>\n      <td>0</td>\n      <td>0</td>\n      <td>Corporate</td>\n    </tr>\n    <tr>\n      <th>1</th>\n      <td>4.2</td>\n      <td>ManTech</td>\n      <td>Chantilly, VA</td>\n      <td>Herndon, VA</td>\n      <td>1968.0</td>\n      <td>Company - Public</td>\n      <td>Business</td>\n      <td>Business Services</td>\n      <td>$1 to $2 billion (USD)</td>\n      <td>Data scientist</td>\n      <td>...</td>\n      <td>0</td>\n      <td>0</td>\n      <td>1</td>\n      <td>0</td>\n      <td>0</td>\n      <td>0</td>\n      <td>0</td>\n      <td>0</td>\n      <td>1</td>\n      <td>Corporate</td>\n    </tr>\n    <tr>\n      <th>2</th>\n      <td>3.8</td>\n      <td>Analysis Group</td>\n      <td>Boston, MA</td>\n      <td>Boston, MA</td>\n      <td>1981.0</td>\n      <td>Private Practice / Firm</td>\n      <td>Other Industries</td>\n      <td>Business Services</td>\n      <td>$100 to $500 million (USD)</td>\n      <td>Data scientist</td>\n      <td>...</td>\n      <td>1</td>\n      <td>1</td>\n      <td>0</td>\n      <td>0</td>\n      <td>0</td>\n      <td>1</td>\n      <td>0</td>\n      <td>0</td>\n      <td>0</td>\n      <td>Corporate</td>\n    </tr>\n    <tr>\n      <th>3</th>\n      <td>3.5</td>\n      <td>INFICON</td>\n      <td>Newton, MA</td>\n      <td>Bad Ragaz, Switzerland</td>\n      <td>2000.0</td>\n      <td>Company - Public</td>\n      <td>Manufacturing</td>\n      <td>Manufacturing</td>\n      <td>$100 to $500 million (USD)</td>\n      <td>Data scientist</td>\n      <td>...</td>\n      <td>1</td>\n      <td>1</td>\n      <td>1</td>\n      <td>0</td>\n      <td>0</td>\n      <td>1</td>\n      <td>0</td>\n      <td>0</td>\n      <td>0</td>\n      <td>Middle</td>\n    </tr>\n    <tr>\n      <th>4</th>\n      <td>2.9</td>\n      <td>Affinity Solutions</td>\n      <td>New York, NY</td>\n      <td>New York, NY</td>\n      <td>1998.0</td>\n      <td>Company - Private</td>\n      <td>Media</td>\n      <td>Business Services</td>\n      <td>Unknown / Non-Applicable</td>\n      <td>Data scientist</td>\n      <td>...</td>\n      <td>1</td>\n      <td>1</td>\n      <td>1</td>\n      <td>0</td>\n      <td>0</td>\n      <td>0</td>\n      <td>0</td>\n      <td>0</td>\n      <td>0</td>\n      <td>Middle</td>\n    </tr>\n  </tbody>\n</table>\n<p>5 rows × 24 columns</p>\n</div>"
          },
          "metadata": {}
        }
      ],
      "execution_count": 729
    },
    {
      "cell_type": "code",
      "source": "dataCleaned.info()",
      "metadata": {
        "trusted": true
      },
      "outputs": [
        {
          "name": "stdout",
          "text": "<class 'pandas.core.frame.DataFrame'>\nRangeIndex: 672 entries, 0 to 671\nData columns (total 24 columns):\n #   Column             Non-Null Count  Dtype  \n---  ------             --------------  -----  \n 0   Rating             672 non-null    float64\n 1   Company Name       672 non-null    object \n 2   Location           672 non-null    object \n 3   Headquarters       672 non-null    object \n 4   Founded            554 non-null    float64\n 5   Type of ownership  672 non-null    object \n 6   Industry           672 non-null    object \n 7   Sector             672 non-null    object \n 8   Revenue            645 non-null    object \n 9   Job Group          603 non-null    object \n 10  Job Level          97 non-null     object \n 11  Min Salary         672 non-null    int32  \n 12  Max Salary         672 non-null    int32  \n 13  Avg Salary         672 non-null    int32  \n 14  Python             672 non-null    int64  \n 15  Excel              672 non-null    int64  \n 16  SQL                672 non-null    int64  \n 17  Tableau            672 non-null    int64  \n 18  Power BI           672 non-null    int64  \n 19  AWS                672 non-null    int64  \n 20  Azure              672 non-null    int64  \n 21  Spark              672 non-null    int64  \n 22  Hadoop             672 non-null    int64  \n 23  Segment            628 non-null    object \ndtypes: float64(2), int32(3), int64(9), object(10)\nmemory usage: 91.9+ KB\n",
          "output_type": "stream"
        }
      ],
      "execution_count": 730
    },
    {
      "cell_type": "code",
      "source": "dataCleaned.describe()",
      "metadata": {
        "trusted": true
      },
      "outputs": [
        {
          "execution_count": 731,
          "output_type": "execute_result",
          "data": {
            "text/plain": "           Rating      Founded     Min Salary     Max Salary     Avg Salary  \\\ncount  672.000000   554.000000     672.000000     672.000000     672.000000   \nmean     3.593006  1984.104693   99196.428571  148130.952381  123663.690476   \nstd      1.176684    40.653609   33009.958111   48035.110051   39580.267895   \nmin      0.000000  1781.000000   31000.000000   56000.000000   43500.000000   \n25%      3.300000  1974.000000   79000.000000  119000.000000  103000.000000   \n50%      3.800000  1999.000000   91000.000000  133000.000000  114000.000000   \n75%      4.300000  2010.000000  122000.000000  165000.000000  136500.000000   \nmax      5.000000  2019.000000  212000.000000  331000.000000  271500.000000   \n\n           Python       Excel         SQL     Tableau    Power BI         AWS  \\\ncount  672.000000  672.000000  672.000000  672.000000  672.000000  672.000000   \nmean     0.730655    0.440476    0.529762    0.183036    0.050595    0.258929   \nstd      0.443950    0.496814    0.499485    0.386984    0.219333    0.438373   \nmin      0.000000    0.000000    0.000000    0.000000    0.000000    0.000000   \n25%      0.000000    0.000000    0.000000    0.000000    0.000000    0.000000   \n50%      1.000000    0.000000    1.000000    0.000000    0.000000    0.000000   \n75%      1.000000    1.000000    1.000000    0.000000    0.000000    1.000000   \nmax      1.000000    1.000000    1.000000    1.000000    1.000000    1.000000   \n\n            Azure       Spark      Hadoop  \ncount  672.000000  672.000000  672.000000  \nmean     0.074405    0.281250    0.212798  \nstd      0.262624    0.449944    0.409591  \nmin      0.000000    0.000000    0.000000  \n25%      0.000000    0.000000    0.000000  \n50%      0.000000    0.000000    0.000000  \n75%      0.000000    1.000000    0.000000  \nmax      1.000000    1.000000    1.000000  ",
            "text/html": "<div>\n<style scoped>\n    .dataframe tbody tr th:only-of-type {\n        vertical-align: middle;\n    }\n\n    .dataframe tbody tr th {\n        vertical-align: top;\n    }\n\n    .dataframe thead th {\n        text-align: right;\n    }\n</style>\n<table border=\"1\" class=\"dataframe\">\n  <thead>\n    <tr style=\"text-align: right;\">\n      <th></th>\n      <th>Rating</th>\n      <th>Founded</th>\n      <th>Min Salary</th>\n      <th>Max Salary</th>\n      <th>Avg Salary</th>\n      <th>Python</th>\n      <th>Excel</th>\n      <th>SQL</th>\n      <th>Tableau</th>\n      <th>Power BI</th>\n      <th>AWS</th>\n      <th>Azure</th>\n      <th>Spark</th>\n      <th>Hadoop</th>\n    </tr>\n  </thead>\n  <tbody>\n    <tr>\n      <th>count</th>\n      <td>672.000000</td>\n      <td>554.000000</td>\n      <td>672.000000</td>\n      <td>672.000000</td>\n      <td>672.000000</td>\n      <td>672.000000</td>\n      <td>672.000000</td>\n      <td>672.000000</td>\n      <td>672.000000</td>\n      <td>672.000000</td>\n      <td>672.000000</td>\n      <td>672.000000</td>\n      <td>672.000000</td>\n      <td>672.000000</td>\n    </tr>\n    <tr>\n      <th>mean</th>\n      <td>3.593006</td>\n      <td>1984.104693</td>\n      <td>99196.428571</td>\n      <td>148130.952381</td>\n      <td>123663.690476</td>\n      <td>0.730655</td>\n      <td>0.440476</td>\n      <td>0.529762</td>\n      <td>0.183036</td>\n      <td>0.050595</td>\n      <td>0.258929</td>\n      <td>0.074405</td>\n      <td>0.281250</td>\n      <td>0.212798</td>\n    </tr>\n    <tr>\n      <th>std</th>\n      <td>1.176684</td>\n      <td>40.653609</td>\n      <td>33009.958111</td>\n      <td>48035.110051</td>\n      <td>39580.267895</td>\n      <td>0.443950</td>\n      <td>0.496814</td>\n      <td>0.499485</td>\n      <td>0.386984</td>\n      <td>0.219333</td>\n      <td>0.438373</td>\n      <td>0.262624</td>\n      <td>0.449944</td>\n      <td>0.409591</td>\n    </tr>\n    <tr>\n      <th>min</th>\n      <td>0.000000</td>\n      <td>1781.000000</td>\n      <td>31000.000000</td>\n      <td>56000.000000</td>\n      <td>43500.000000</td>\n      <td>0.000000</td>\n      <td>0.000000</td>\n      <td>0.000000</td>\n      <td>0.000000</td>\n      <td>0.000000</td>\n      <td>0.000000</td>\n      <td>0.000000</td>\n      <td>0.000000</td>\n      <td>0.000000</td>\n    </tr>\n    <tr>\n      <th>25%</th>\n      <td>3.300000</td>\n      <td>1974.000000</td>\n      <td>79000.000000</td>\n      <td>119000.000000</td>\n      <td>103000.000000</td>\n      <td>0.000000</td>\n      <td>0.000000</td>\n      <td>0.000000</td>\n      <td>0.000000</td>\n      <td>0.000000</td>\n      <td>0.000000</td>\n      <td>0.000000</td>\n      <td>0.000000</td>\n      <td>0.000000</td>\n    </tr>\n    <tr>\n      <th>50%</th>\n      <td>3.800000</td>\n      <td>1999.000000</td>\n      <td>91000.000000</td>\n      <td>133000.000000</td>\n      <td>114000.000000</td>\n      <td>1.000000</td>\n      <td>0.000000</td>\n      <td>1.000000</td>\n      <td>0.000000</td>\n      <td>0.000000</td>\n      <td>0.000000</td>\n      <td>0.000000</td>\n      <td>0.000000</td>\n      <td>0.000000</td>\n    </tr>\n    <tr>\n      <th>75%</th>\n      <td>4.300000</td>\n      <td>2010.000000</td>\n      <td>122000.000000</td>\n      <td>165000.000000</td>\n      <td>136500.000000</td>\n      <td>1.000000</td>\n      <td>1.000000</td>\n      <td>1.000000</td>\n      <td>0.000000</td>\n      <td>0.000000</td>\n      <td>1.000000</td>\n      <td>0.000000</td>\n      <td>1.000000</td>\n      <td>0.000000</td>\n    </tr>\n    <tr>\n      <th>max</th>\n      <td>5.000000</td>\n      <td>2019.000000</td>\n      <td>212000.000000</td>\n      <td>331000.000000</td>\n      <td>271500.000000</td>\n      <td>1.000000</td>\n      <td>1.000000</td>\n      <td>1.000000</td>\n      <td>1.000000</td>\n      <td>1.000000</td>\n      <td>1.000000</td>\n      <td>1.000000</td>\n      <td>1.000000</td>\n      <td>1.000000</td>\n    </tr>\n  </tbody>\n</table>\n</div>"
          },
          "metadata": {}
        }
      ],
      "execution_count": 731
    },
    {
      "cell_type": "code",
      "source": "dataCleaned.describe(include='object')",
      "metadata": {
        "trusted": true
      },
      "outputs": [
        {
          "execution_count": 732,
          "output_type": "execute_result",
          "data": {
            "text/plain": "          Company Name           Location  Headquarters  Type of ownership  \\\ncount              672                672           672                672   \nunique             432                207           229                 11   \ntop     Hatch Data Inc  San Francisco, CA  New York, NY  Company - Private   \nfreq                12                 69            33                397   \n\n                Industry                  Sector                   Revenue  \\\ncount                672                     672                       645   \nunique                16                      23                        13   \ntop     Other Industries  Information Technology  Unknown / Non-Applicable   \nfreq                 207                     188                       213   \n\n             Job Group Job Level Segment  \ncount              603        97     628  \nunique               6         2       3  \ntop     Data scientist    Senior  Middle  \nfreq               440        95     297  ",
            "text/html": "<div>\n<style scoped>\n    .dataframe tbody tr th:only-of-type {\n        vertical-align: middle;\n    }\n\n    .dataframe tbody tr th {\n        vertical-align: top;\n    }\n\n    .dataframe thead th {\n        text-align: right;\n    }\n</style>\n<table border=\"1\" class=\"dataframe\">\n  <thead>\n    <tr style=\"text-align: right;\">\n      <th></th>\n      <th>Company Name</th>\n      <th>Location</th>\n      <th>Headquarters</th>\n      <th>Type of ownership</th>\n      <th>Industry</th>\n      <th>Sector</th>\n      <th>Revenue</th>\n      <th>Job Group</th>\n      <th>Job Level</th>\n      <th>Segment</th>\n    </tr>\n  </thead>\n  <tbody>\n    <tr>\n      <th>count</th>\n      <td>672</td>\n      <td>672</td>\n      <td>672</td>\n      <td>672</td>\n      <td>672</td>\n      <td>672</td>\n      <td>645</td>\n      <td>603</td>\n      <td>97</td>\n      <td>628</td>\n    </tr>\n    <tr>\n      <th>unique</th>\n      <td>432</td>\n      <td>207</td>\n      <td>229</td>\n      <td>11</td>\n      <td>16</td>\n      <td>23</td>\n      <td>13</td>\n      <td>6</td>\n      <td>2</td>\n      <td>3</td>\n    </tr>\n    <tr>\n      <th>top</th>\n      <td>Hatch Data Inc</td>\n      <td>San Francisco, CA</td>\n      <td>New York, NY</td>\n      <td>Company - Private</td>\n      <td>Other Industries</td>\n      <td>Information Technology</td>\n      <td>Unknown / Non-Applicable</td>\n      <td>Data scientist</td>\n      <td>Senior</td>\n      <td>Middle</td>\n    </tr>\n    <tr>\n      <th>freq</th>\n      <td>12</td>\n      <td>69</td>\n      <td>33</td>\n      <td>397</td>\n      <td>207</td>\n      <td>188</td>\n      <td>213</td>\n      <td>440</td>\n      <td>95</td>\n      <td>297</td>\n    </tr>\n  </tbody>\n</table>\n</div>"
          },
          "metadata": {}
        }
      ],
      "execution_count": 732
    },
    {
      "cell_type": "code",
      "source": "dataCleaned.to_csv('dataClean.csv', index=False)",
      "metadata": {
        "trusted": true
      },
      "outputs": [],
      "execution_count": 733
    },
    {
      "cell_type": "markdown",
      "source": "## Data Dictionary",
      "metadata": {}
    },
    {
      "cell_type": "markdown",
      "source": "- Job Group: Title of the job posting\n- Rating: Rating of that post\n- Company Name: Name of company\n- Location: location of company\n- Headquarter: Location of the headquater\n- Segment: Segment of the company\n- Type of ownership: Describes the company type i.e non-profit/public/private farm etc\n- Industry, Sector: Field applicant will work in\n- Revenue: Total revenue of the company\n- Min Salary,Max Salary, Avg Salary: Refers to the minimum, maximum and average salary for that post\n- Founded: Year of foundation\n- Excel, SQL, Tableau, Power BI, AWS, Azure, Spark, Hadoop: Skills extracted from the job description",
      "metadata": {}
    }
  ]
}